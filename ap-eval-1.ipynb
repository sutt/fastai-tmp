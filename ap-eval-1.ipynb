{
 "cells": [
  {
   "cell_type": "code",
   "execution_count": 1,
   "metadata": {},
   "outputs": [
    {
     "name": "stdout",
     "output_type": "stream",
     "text": [
      "1.0.53.dev0\n"
     ]
    }
   ],
   "source": [
    "import os, sys, json, copy, random, pickle, time\n",
    "import pandas as pd\n",
    "import numpy as np\n",
    "from matplotlib import pyplot as plt\n",
    "\n",
    "# set to my fork with fix on server\n",
    "# sys.path.insert(0, '../../../myfastai')\n",
    "# set to dev-head on local\n",
    "sys.path.insert(0, '../../../fastaif')\n",
    "import fastai\n",
    "print(fastai.__version__)\n",
    "\n",
    "from fastai.vision import *\n",
    "from fastai.utils.mem import  gpu_mem_get_free_no_cache\n",
    "\n",
    "%reload_ext autoreload\n",
    "%autoreload 2\n",
    "\n",
    "from modules.ap3data import build_data\n",
    "from modules.ap3graph import *\n",
    "from modules.miscutils import ( scp_from_gcloud\n",
    "                               ,move_file_obj\n",
    "                               ,fastai_version\n",
    "                              )\n",
    "\n",
    "from modules.modeleval import ( calc_sse\n",
    "                               ,calc_mse\n",
    "                               ,err_to_np\n",
    "                               ,ModelHome\n",
    "                               ,Residuals\n",
    "                              )"
   ]
  },
  {
   "cell_type": "code",
   "execution_count": 2,
   "metadata": {},
   "outputs": [
    {
     "name": "stdout",
     "output_type": "stream",
     "text": [
      "all validations pass\n",
      "all validations pass\n"
     ]
    }
   ],
   "source": [
    "# the two datasets for apfit2-X models\n",
    "\n",
    "data_small = build_data(batch_size=16, \n",
    "                        size=(216, 324), \n",
    "                        valid_pct=0.2,\n",
    "                        )\n",
    "data_large = build_data(batch_size=16, \n",
    "                        size=(288, 432), \n",
    "                        valid_pct=0.2,\n",
    "                        )"
   ]
  },
  {
   "cell_type": "code",
   "execution_count": 3,
   "metadata": {},
   "outputs": [],
   "source": [
    "m1 = ModelHome(\n",
    "                model_arch=models.resnet50,\n",
    "                dataset=data_large,\n",
    "                pth_fn='new-models/apfit2-1.pth',\n",
    "                name='apfit2-1',\n",
    "                history_fn='new-models/apfit2-1.csv',\n",
    "                preds_fn='misc-data/preds-apfit2-1.pickle',\n",
    "                )"
   ]
  },
  {
   "cell_type": "code",
   "execution_count": 4,
   "metadata": {},
   "outputs": [
    {
     "data": {
      "text/plain": [
       "tensor([ 0.0061, -0.0993,  0.0151,  0.0378,  0.3364,  0.0322,  0.3136, -0.1120])"
      ]
     },
     "execution_count": 4,
     "metadata": {},
     "output_type": "execute_result"
    }
   ],
   "source": [
    "m1.get_prediction(0)"
   ]
  },
  {
   "cell_type": "code",
   "execution_count": 5,
   "metadata": {},
   "outputs": [
    {
     "data": {
      "text/plain": [
       "tensor([[ 0.0023, -0.1065],\n",
       "        [-0.0185,  0.0648],\n",
       "        [ 0.3241,  0.0679],\n",
       "        [ 0.3218, -0.1034]])"
      ]
     },
     "execution_count": 5,
     "metadata": {},
     "output_type": "execute_result"
    }
   ],
   "source": [
    "m1.get_truth(0)"
   ]
  },
  {
   "cell_type": "code",
   "execution_count": 6,
   "metadata": {},
   "outputs": [
    {
     "name": "stdout",
     "output_type": "stream",
     "text": [
      "avg pred time (ms): 530  [min: 521 | max: 538]\n"
     ]
    }
   ],
   "source": [
    "m1.build_avg_pred_time()"
   ]
  },
  {
   "cell_type": "code",
   "execution_count": null,
   "metadata": {},
   "outputs": [],
   "source": []
  },
  {
   "cell_type": "code",
   "execution_count": null,
   "metadata": {},
   "outputs": [],
   "source": []
  }
 ],
 "metadata": {
  "kernelspec": {
   "display_name": "Python 3",
   "language": "python",
   "name": "python3"
  },
  "language_info": {
   "codemirror_mode": {
    "name": "ipython",
    "version": 3
   },
   "file_extension": ".py",
   "mimetype": "text/x-python",
   "name": "python",
   "nbconvert_exporter": "python",
   "pygments_lexer": "ipython3",
   "version": "3.6.8"
  }
 },
 "nbformat": 4,
 "nbformat_minor": 2
}
