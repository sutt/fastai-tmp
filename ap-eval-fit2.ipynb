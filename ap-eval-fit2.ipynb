{
 "cells": [
  {
   "cell_type": "markdown",
   "metadata": {},
   "source": [
    "### Build Preds table server side\n",
    "using ModelHome class"
   ]
  },
  {
   "cell_type": "code",
   "execution_count": 2,
   "metadata": {},
   "outputs": [
    {
     "name": "stdout",
     "output_type": "stream",
     "text": [
      "1.0.53.dev0\n"
     ]
    }
   ],
   "source": [
    "import os, sys, json, copy, random, pickle, time\n",
    "import pandas as pd\n",
    "import numpy as np\n",
    "from matplotlib import pyplot as plt\n",
    "\n",
    "# set to my fork with fix on server\n",
    "sys.path.insert(0, '../../../myfastai')\n",
    "# set to dev-head on local\n",
    "# sys.path.insert(0, '../../../fastaif')\n",
    "import fastai\n",
    "print(fastai.__version__)\n",
    "\n",
    "from fastai.vision import *\n",
    "from fastai.utils.mem import  gpu_mem_get_free_no_cache\n",
    "\n",
    "%reload_ext autoreload\n",
    "%autoreload 2\n",
    "\n",
    "from modules.ap3data import build_data\n",
    "from modules.ap3graph import pred_cmp_viz\n",
    "\n",
    "from modules.miscutils import ( scp_from_gcloud\n",
    "                               ,move_file_obj\n",
    "                               ,fastai_version\n",
    "                              )\n",
    "from modules.modeleval import ( calc_sse\n",
    "                               ,calc_mse\n",
    "                               ,err_to_np\n",
    "                               ,ModelHome\n",
    "                               ,Residuals\n",
    "                              )"
   ]
  },
  {
   "cell_type": "code",
   "execution_count": 3,
   "metadata": {},
   "outputs": [
    {
     "name": "stdout",
     "output_type": "stream",
     "text": [
      "all validations pass\n",
      "all validations pass\n"
     ]
    }
   ],
   "source": [
    "# the two datasets for apfit2-X models\n",
    "\n",
    "data_small = build_data(batch_size=16, \n",
    "                        size=(216, 324), \n",
    "                        valid_pct=0.2,\n",
    "                        )\n",
    "data_large = build_data(batch_size=16, \n",
    "                        size=(288, 432), \n",
    "                        valid_pct=0.2,\n",
    "                        )"
   ]
  },
  {
   "cell_type": "markdown",
   "metadata": {},
   "source": [
    "##### Copy objects into proper directories"
   ]
  },
  {
   "cell_type": "code",
   "execution_count": 5,
   "metadata": {},
   "outputs": [
    {
     "name": "stdout",
     "output_type": "stream",
     "text": [
      "succesfully copied 5 files, failed on 0 files\n",
      "from data/alphapilot/data_training/models/ to new-models/\n",
      "successes: | data/alphapilot/data_training/models/apfit2a-3.pth | data/alphapilot/data_training/models/apfit2a-2.pth | data/alphapilot/data_training/models/apfit2a-4.pth | data/alphapilot/data_training/models/apfit2a-5.pth | data/alphapilot/data_training/models/apfit2a-1.pth\n",
      "fails:\n"
     ]
    }
   ],
   "source": [
    "move_file_obj(src= 'data/alphapilot/data_training/models/'\n",
    "             ,dest='new-models/'\n",
    "             ,patterns=['apfit2a', '.pth']\n",
    "             ,dry_run=False\n",
    "             )"
   ]
  },
  {
   "cell_type": "code",
   "execution_count": 6,
   "metadata": {},
   "outputs": [
    {
     "name": "stdout",
     "output_type": "stream",
     "text": [
      "succesfully copied 5 files, failed on 0 files\n",
      "from data/alphapilot/data_training/ to new-models/\n",
      "successes: | data/alphapilot/data_training/apfit2a-1.csv | data/alphapilot/data_training/apfit2a-2.csv | data/alphapilot/data_training/apfit2a-3.csv | data/alphapilot/data_training/apfit2a-4.csv | data/alphapilot/data_training/apfit2a-5.csv\n",
      "fails:\n"
     ]
    }
   ],
   "source": [
    "move_file_obj(src= 'data/alphapilot/data_training/'\n",
    "             ,dest='new-models/'\n",
    "             ,patterns=['apfit2a', '.csv']\n",
    "             ,dry_run=False\n",
    "             )"
   ]
  },
  {
   "cell_type": "code",
   "execution_count": 4,
   "metadata": {},
   "outputs": [],
   "source": [
    "m1 = ModelHome(\n",
    "                model_arch=models.resnet50,\n",
    "                dataset=data_large,\n",
    "                pth_fn='new-models/apfit2a-1.pth',\n",
    "                name='apfit2a-1',\n",
    "                history_fn=None,\n",
    "                preds_fn=None,\n",
    "                )"
   ]
  },
  {
   "cell_type": "code",
   "execution_count": 6,
   "metadata": {},
   "outputs": [
    {
     "name": "stdout",
     "output_type": "stream",
     "text": [
      "avg pred time (ms): 853  [min: 43 | max: 4090]\n"
     ]
    }
   ],
   "source": [
    "m1.build_avg_pred_time()"
   ]
  },
  {
   "cell_type": "code",
   "execution_count": 7,
   "metadata": {},
   "outputs": [
    {
     "name": "stdout",
     "output_type": "stream",
     "text": [
      "avg pred time (ms): 44  [min: 43 | max: 45]\n"
     ]
    }
   ],
   "source": [
    "m1.build_avg_pred_time()"
   ]
  },
  {
   "cell_type": "code",
   "execution_count": 9,
   "metadata": {},
   "outputs": [
    {
     "name": "stdout",
     "output_type": "stream",
     "text": [
      "success - output preds to: misc-data/preds_apfit2a-1.pickle\n"
     ]
    }
   ],
   "source": [
    "m1.build_preds()"
   ]
  },
  {
   "cell_type": "code",
   "execution_count": 12,
   "metadata": {},
   "outputs": [
    {
     "name": "stdout",
     "output_type": "stream",
     "text": [
      "success - output preds to: misc-data/preds_apfit2a-5.pickle\n"
     ]
    }
   ],
   "source": [
    "for _name in ['apfit2a-' + str(i) for i in range(1,6)]:\n",
    "    \n",
    "    _m = ModelHome(\n",
    "                model_arch=models.resnet50,\n",
    "                dataset=data_large,\n",
    "                pth_fn='new-models/' + _name + '.pth',\n",
    "                name=_name,\n",
    "                history_fn=None,\n",
    "                preds_fn=None,\n",
    "                )\n",
    "    \n",
    "    _m.build_preds()"
   ]
  },
  {
   "cell_type": "code",
   "execution_count": null,
   "metadata": {},
   "outputs": [],
   "source": []
  },
  {
   "cell_type": "code",
   "execution_count": null,
   "metadata": {},
   "outputs": [],
   "source": []
  }
 ],
 "metadata": {
  "kernelspec": {
   "display_name": "Python 3",
   "language": "python",
   "name": "python3"
  },
  "language_info": {
   "codemirror_mode": {
    "name": "ipython",
    "version": 3
   },
   "file_extension": ".py",
   "mimetype": "text/x-python",
   "name": "python",
   "nbconvert_exporter": "python",
   "pygments_lexer": "ipython3",
   "version": "3.7.1"
  }
 },
 "nbformat": 4,
 "nbformat_minor": 2
}
