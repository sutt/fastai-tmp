{
 "cells": [
  {
   "cell_type": "markdown",
   "metadata": {},
   "source": [
    "#### Build Datasets + Fit Models with diff Params\n",
    "built: 4/25 - ?"
   ]
  },
  {
   "cell_type": "code",
   "execution_count": 1,
   "metadata": {},
   "outputs": [
    {
     "data": {
      "text/plain": [
       "7601"
      ]
     },
     "execution_count": 1,
     "metadata": {},
     "output_type": "execute_result"
    }
   ],
   "source": [
    "import os, sys, json, copy, random\n",
    "import pandas as pd\n",
    "import numpy as np\n",
    "from fastai.vision import *\n",
    "from fastai.utils.mem import  gpu_mem_get_free_no_cache\n",
    "from modules.ap3data import build_data, clear_gpu_mem\n",
    "gpu_mem_get_free_no_cache()"
   ]
  },
  {
   "cell_type": "code",
   "execution_count": 2,
   "metadata": {},
   "outputs": [],
   "source": [
    "data_small = build_data(batch_size=16, \n",
    "                        size=(216, 324), \n",
    "                        valid_pct=0.2,\n",
    "                        )\n",
    "data_large = build_data(batch_size=16, \n",
    "                        size=(288, 432), \n",
    "                        valid_pct=0.2,\n",
    "                        )"
   ]
  },
  {
   "cell_type": "code",
   "execution_count": 3,
   "metadata": {},
   "outputs": [],
   "source": [
    "'''\n",
    "    4/25, 10:00am\n",
    "    learn_1 - data_large; resnet50\n",
    "    learn_2 - data_large; resnet34\n",
    "    learn_3 - data_small; resent50\n",
    "    learn_4 - data_small; resnet34\n",
    "'''; pass"
   ]
  },
  {
   "cell_type": "code",
   "execution_count": 4,
   "metadata": {},
   "outputs": [
    {
     "data": {
      "text/plain": [
       "7601"
      ]
     },
     "execution_count": 4,
     "metadata": {},
     "output_type": "execute_result"
    }
   ],
   "source": [
    "gpu_mem_get_free_no_cache()"
   ]
  },
  {
   "cell_type": "code",
   "execution_count": 5,
   "metadata": {},
   "outputs": [
    {
     "data": {
      "text/html": [
       "Total time: 20:38 <p><table border=\"1\" class=\"dataframe\">\n",
       "  <thead>\n",
       "    <tr style=\"text-align: left;\">\n",
       "      <th>epoch</th>\n",
       "      <th>train_loss</th>\n",
       "      <th>valid_loss</th>\n",
       "      <th>time</th>\n",
       "    </tr>\n",
       "  </thead>\n",
       "  <tbody>\n",
       "    <tr>\n",
       "      <td>0</td>\n",
       "      <td>0.826123</td>\n",
       "      <td>0.204477</td>\n",
       "      <td>02:10</td>\n",
       "    </tr>\n",
       "    <tr>\n",
       "      <td>1</td>\n",
       "      <td>0.178849</td>\n",
       "      <td>0.053400</td>\n",
       "      <td>02:03</td>\n",
       "    </tr>\n",
       "    <tr>\n",
       "      <td>2</td>\n",
       "      <td>0.052662</td>\n",
       "      <td>0.033987</td>\n",
       "      <td>02:03</td>\n",
       "    </tr>\n",
       "    <tr>\n",
       "      <td>3</td>\n",
       "      <td>0.045879</td>\n",
       "      <td>0.027172</td>\n",
       "      <td>02:03</td>\n",
       "    </tr>\n",
       "    <tr>\n",
       "      <td>4</td>\n",
       "      <td>0.035631</td>\n",
       "      <td>0.022793</td>\n",
       "      <td>02:02</td>\n",
       "    </tr>\n",
       "    <tr>\n",
       "      <td>5</td>\n",
       "      <td>0.029857</td>\n",
       "      <td>0.018506</td>\n",
       "      <td>02:03</td>\n",
       "    </tr>\n",
       "    <tr>\n",
       "      <td>6</td>\n",
       "      <td>0.025002</td>\n",
       "      <td>0.014185</td>\n",
       "      <td>02:03</td>\n",
       "    </tr>\n",
       "    <tr>\n",
       "      <td>7</td>\n",
       "      <td>0.019779</td>\n",
       "      <td>0.011573</td>\n",
       "      <td>02:03</td>\n",
       "    </tr>\n",
       "    <tr>\n",
       "      <td>8</td>\n",
       "      <td>0.018839</td>\n",
       "      <td>0.010142</td>\n",
       "      <td>02:02</td>\n",
       "    </tr>\n",
       "    <tr>\n",
       "      <td>9</td>\n",
       "      <td>0.018154</td>\n",
       "      <td>0.009905</td>\n",
       "      <td>02:02</td>\n",
       "    </tr>\n",
       "  </tbody>\n",
       "</table>"
      ],
      "text/plain": [
       "<IPython.core.display.HTML object>"
      ]
     },
     "metadata": {},
     "output_type": "display_data"
    },
    {
     "name": "stdout",
     "output_type": "stream",
     "text": [
      "6876\n",
      "this Learner object self-destroyed - it still exists, but no longer usable\n",
      "7130\n"
     ]
    }
   ],
   "source": [
    "lr = 2e-3\n",
    "\n",
    "learn_1 = cnn_learner(data_large, models.resnet50)\n",
    "\n",
    "learn_1.fit_one_cycle(10, slice(lr))\n",
    "\n",
    "learn_1.save('apfit1-1')\n",
    "\n",
    "clear_gpu_mem(learn_1)"
   ]
  },
  {
   "cell_type": "code",
   "execution_count": 6,
   "metadata": {},
   "outputs": [
    {
     "data": {
      "text/html": [
       "Total time: 14:45 <p><table border=\"1\" class=\"dataframe\">\n",
       "  <thead>\n",
       "    <tr style=\"text-align: left;\">\n",
       "      <th>epoch</th>\n",
       "      <th>train_loss</th>\n",
       "      <th>valid_loss</th>\n",
       "      <th>time</th>\n",
       "    </tr>\n",
       "  </thead>\n",
       "  <tbody>\n",
       "    <tr>\n",
       "      <td>0</td>\n",
       "      <td>0.770003</td>\n",
       "      <td>0.163551</td>\n",
       "      <td>01:29</td>\n",
       "    </tr>\n",
       "    <tr>\n",
       "      <td>1</td>\n",
       "      <td>0.156147</td>\n",
       "      <td>0.040734</td>\n",
       "      <td>01:29</td>\n",
       "    </tr>\n",
       "    <tr>\n",
       "      <td>2</td>\n",
       "      <td>0.053406</td>\n",
       "      <td>0.029898</td>\n",
       "      <td>01:29</td>\n",
       "    </tr>\n",
       "    <tr>\n",
       "      <td>3</td>\n",
       "      <td>0.047869</td>\n",
       "      <td>0.033310</td>\n",
       "      <td>01:27</td>\n",
       "    </tr>\n",
       "    <tr>\n",
       "      <td>4</td>\n",
       "      <td>0.037537</td>\n",
       "      <td>0.026416</td>\n",
       "      <td>01:28</td>\n",
       "    </tr>\n",
       "    <tr>\n",
       "      <td>5</td>\n",
       "      <td>0.033614</td>\n",
       "      <td>0.020935</td>\n",
       "      <td>01:28</td>\n",
       "    </tr>\n",
       "    <tr>\n",
       "      <td>6</td>\n",
       "      <td>0.029677</td>\n",
       "      <td>0.018283</td>\n",
       "      <td>01:27</td>\n",
       "    </tr>\n",
       "    <tr>\n",
       "      <td>7</td>\n",
       "      <td>0.028738</td>\n",
       "      <td>0.016337</td>\n",
       "      <td>01:28</td>\n",
       "    </tr>\n",
       "    <tr>\n",
       "      <td>8</td>\n",
       "      <td>0.025453</td>\n",
       "      <td>0.015897</td>\n",
       "      <td>01:27</td>\n",
       "    </tr>\n",
       "    <tr>\n",
       "      <td>9</td>\n",
       "      <td>0.025181</td>\n",
       "      <td>0.016099</td>\n",
       "      <td>01:29</td>\n",
       "    </tr>\n",
       "  </tbody>\n",
       "</table>"
      ],
      "text/plain": [
       "<IPython.core.display.HTML object>"
      ]
     },
     "metadata": {},
     "output_type": "display_data"
    },
    {
     "name": "stdout",
     "output_type": "stream",
     "text": [
      "6962\n",
      "this Learner object self-destroyed - it still exists, but no longer usable\n",
      "7130\n"
     ]
    }
   ],
   "source": [
    "lr = 2e-3\n",
    "\n",
    "learn_2 = cnn_learner(data_large, models.resnet34)\n",
    "\n",
    "learn_2.fit_one_cycle(10, slice(lr))\n",
    "\n",
    "learn_2.save('apfit1-2')\n",
    "\n",
    "clear_gpu_mem(learn_2)"
   ]
  },
  {
   "cell_type": "code",
   "execution_count": 9,
   "metadata": {},
   "outputs": [
    {
     "data": {
      "text/html": [
       "Total time: 13:19 <p><table border=\"1\" class=\"dataframe\">\n",
       "  <thead>\n",
       "    <tr style=\"text-align: left;\">\n",
       "      <th>epoch</th>\n",
       "      <th>train_loss</th>\n",
       "      <th>valid_loss</th>\n",
       "      <th>time</th>\n",
       "    </tr>\n",
       "  </thead>\n",
       "  <tbody>\n",
       "    <tr>\n",
       "      <td>0</td>\n",
       "      <td>0.729450</td>\n",
       "      <td>0.206618</td>\n",
       "      <td>01:19</td>\n",
       "    </tr>\n",
       "    <tr>\n",
       "      <td>1</td>\n",
       "      <td>0.148894</td>\n",
       "      <td>0.041978</td>\n",
       "      <td>01:19</td>\n",
       "    </tr>\n",
       "    <tr>\n",
       "      <td>2</td>\n",
       "      <td>0.052519</td>\n",
       "      <td>0.034261</td>\n",
       "      <td>01:19</td>\n",
       "    </tr>\n",
       "    <tr>\n",
       "      <td>3</td>\n",
       "      <td>0.043359</td>\n",
       "      <td>0.026531</td>\n",
       "      <td>01:20</td>\n",
       "    </tr>\n",
       "    <tr>\n",
       "      <td>4</td>\n",
       "      <td>0.032856</td>\n",
       "      <td>0.021242</td>\n",
       "      <td>01:19</td>\n",
       "    </tr>\n",
       "    <tr>\n",
       "      <td>5</td>\n",
       "      <td>0.027749</td>\n",
       "      <td>0.017166</td>\n",
       "      <td>01:19</td>\n",
       "    </tr>\n",
       "    <tr>\n",
       "      <td>6</td>\n",
       "      <td>0.022877</td>\n",
       "      <td>0.012066</td>\n",
       "      <td>01:19</td>\n",
       "    </tr>\n",
       "    <tr>\n",
       "      <td>7</td>\n",
       "      <td>0.021377</td>\n",
       "      <td>0.011230</td>\n",
       "      <td>01:20</td>\n",
       "    </tr>\n",
       "    <tr>\n",
       "      <td>8</td>\n",
       "      <td>0.018706</td>\n",
       "      <td>0.011418</td>\n",
       "      <td>01:19</td>\n",
       "    </tr>\n",
       "    <tr>\n",
       "      <td>9</td>\n",
       "      <td>0.018426</td>\n",
       "      <td>0.010394</td>\n",
       "      <td>01:19</td>\n",
       "    </tr>\n",
       "  </tbody>\n",
       "</table>"
      ],
      "text/plain": [
       "<IPython.core.display.HTML object>"
      ]
     },
     "metadata": {},
     "output_type": "display_data"
    },
    {
     "name": "stdout",
     "output_type": "stream",
     "text": [
      "6986\n",
      "this Learner object self-destroyed - it still exists, but no longer usable\n",
      "7130\n"
     ]
    }
   ],
   "source": [
    "lr = 2e-3\n",
    "\n",
    "learn_3 = cnn_learner(data_small, models.resnet50)\n",
    "\n",
    "learn_3.fit_one_cycle(10, slice(lr))\n",
    "\n",
    "learn_3.save('apfit1-3')\n",
    "\n",
    "clear_gpu_mem(learn_3)"
   ]
  },
  {
   "cell_type": "code",
   "execution_count": 10,
   "metadata": {},
   "outputs": [
    {
     "data": {
      "text/html": [
       "Total time: 11:28 <p><table border=\"1\" class=\"dataframe\">\n",
       "  <thead>\n",
       "    <tr style=\"text-align: left;\">\n",
       "      <th>epoch</th>\n",
       "      <th>train_loss</th>\n",
       "      <th>valid_loss</th>\n",
       "      <th>time</th>\n",
       "    </tr>\n",
       "  </thead>\n",
       "  <tbody>\n",
       "    <tr>\n",
       "      <td>0</td>\n",
       "      <td>0.773624</td>\n",
       "      <td>0.165617</td>\n",
       "      <td>01:08</td>\n",
       "    </tr>\n",
       "    <tr>\n",
       "      <td>1</td>\n",
       "      <td>0.160634</td>\n",
       "      <td>0.043241</td>\n",
       "      <td>01:10</td>\n",
       "    </tr>\n",
       "    <tr>\n",
       "      <td>2</td>\n",
       "      <td>0.051429</td>\n",
       "      <td>0.031770</td>\n",
       "      <td>01:08</td>\n",
       "    </tr>\n",
       "    <tr>\n",
       "      <td>3</td>\n",
       "      <td>0.047397</td>\n",
       "      <td>0.030181</td>\n",
       "      <td>01:08</td>\n",
       "    </tr>\n",
       "    <tr>\n",
       "      <td>4</td>\n",
       "      <td>0.039720</td>\n",
       "      <td>0.022635</td>\n",
       "      <td>01:07</td>\n",
       "    </tr>\n",
       "    <tr>\n",
       "      <td>5</td>\n",
       "      <td>0.033849</td>\n",
       "      <td>0.019590</td>\n",
       "      <td>01:08</td>\n",
       "    </tr>\n",
       "    <tr>\n",
       "      <td>6</td>\n",
       "      <td>0.029476</td>\n",
       "      <td>0.016838</td>\n",
       "      <td>01:10</td>\n",
       "    </tr>\n",
       "    <tr>\n",
       "      <td>7</td>\n",
       "      <td>0.025777</td>\n",
       "      <td>0.015185</td>\n",
       "      <td>01:09</td>\n",
       "    </tr>\n",
       "    <tr>\n",
       "      <td>8</td>\n",
       "      <td>0.024658</td>\n",
       "      <td>0.014442</td>\n",
       "      <td>01:08</td>\n",
       "    </tr>\n",
       "    <tr>\n",
       "      <td>9</td>\n",
       "      <td>0.023842</td>\n",
       "      <td>0.013353</td>\n",
       "      <td>01:08</td>\n",
       "    </tr>\n",
       "  </tbody>\n",
       "</table>"
      ],
      "text/plain": [
       "<IPython.core.display.HTML object>"
      ]
     },
     "metadata": {},
     "output_type": "display_data"
    },
    {
     "name": "stdout",
     "output_type": "stream",
     "text": [
      "6986\n",
      "this Learner object self-destroyed - it still exists, but no longer usable\n",
      "7130\n"
     ]
    }
   ],
   "source": [
    "lr = 2e-3\n",
    "\n",
    "learn_4 = cnn_learner(data_small, models.resnet34)\n",
    "\n",
    "learn_4.fit_one_cycle(10, slice(lr))\n",
    "\n",
    "learn_4.save('apfit1-4')\n",
    "\n",
    "clear_gpu_mem(learn_4)"
   ]
  },
  {
   "cell_type": "markdown",
   "metadata": {},
   "source": [
    "#### View Train/Valid Sampling in datasets"
   ]
  },
  {
   "cell_type": "code",
   "execution_count": 27,
   "metadata": {},
   "outputs": [],
   "source": [
    "l_train_fn  = [e.name for e in data_large.train_dl.items]\n",
    "l_valid_fn  = [e.name for e in data_large.valid_dl.items]\n",
    "\n",
    "s_train_fn  = [e.name for e in data_small.train_dl.items]\n",
    "s_valid_fn  = [e.name for e in data_small.valid_dl.items]"
   ]
  },
  {
   "cell_type": "code",
   "execution_count": 18,
   "metadata": {},
   "outputs": [
    {
     "data": {
      "text/plain": [
       "(4662,\n",
       " ['IMG_2971.JPG', 'IMG_8623 (1).JPG', 'IMG_8573.JPG'],\n",
       " 1165,\n",
       " ['IMG_4012.JPG', 'IMG_3050.JPG', 'IMG_5633.JPG'])"
      ]
     },
     "execution_count": 18,
     "metadata": {},
     "output_type": "execute_result"
    }
   ],
   "source": [
    "len(l_train_fn), l_train_fn[:3], len(l_valid_fn), l_valid_fn[:3]"
   ]
  },
  {
   "cell_type": "code",
   "execution_count": 28,
   "metadata": {},
   "outputs": [
    {
     "data": {
      "text/plain": [
       "(4662,\n",
       " ['IMG_2971.JPG', 'IMG_8623 (1).JPG', 'IMG_8573.JPG'],\n",
       " 1165,\n",
       " ['IMG_4012.JPG', 'IMG_3050.JPG', 'IMG_5633.JPG'])"
      ]
     },
     "execution_count": 28,
     "metadata": {},
     "output_type": "execute_result"
    }
   ],
   "source": [
    "len(s_train_fn), s_train_fn[:3], len(s_valid_fn), s_valid_fn[:3]"
   ]
  },
  {
   "cell_type": "code",
   "execution_count": 29,
   "metadata": {},
   "outputs": [
    {
     "data": {
      "text/plain": [
       "True"
      ]
     },
     "execution_count": 29,
     "metadata": {},
     "output_type": "execute_result"
    }
   ],
   "source": [
    "l_train_fn == s_train_fn"
   ]
  },
  {
   "cell_type": "code",
   "execution_count": 30,
   "metadata": {},
   "outputs": [
    {
     "data": {
      "text/plain": [
       "True"
      ]
     },
     "execution_count": 30,
     "metadata": {},
     "output_type": "execute_result"
    }
   ],
   "source": [
    "l_valid_fn == s_valid_fn"
   ]
  },
  {
   "cell_type": "code",
   "execution_count": 26,
   "metadata": {},
   "outputs": [],
   "source": [
    "box = 'remote'\n",
    "with open('misc-data/l_train.' + box + '.csv', 'w') as f:\n",
    "    f.writelines(l_train_fn)\n",
    "with open('misc-data/l_valid.' + box + '.csv', 'w') as f:\n",
    "    f.writelines(l_valid_fn)"
   ]
  },
  {
   "cell_type": "code",
   "execution_count": null,
   "metadata": {},
   "outputs": [],
   "source": []
  },
  {
   "cell_type": "markdown",
   "metadata": {},
   "source": [
    "##### Copy paths into/out of `old-models`"
   ]
  },
  {
   "cell_type": "code",
   "execution_count": null,
   "metadata": {},
   "outputs": [],
   "source": [
    "# ../../../../alphapilot/Data_Training/Data_Training/models/"
   ]
  },
  {
   "cell_type": "code",
   "execution_count": null,
   "metadata": {},
   "outputs": [],
   "source": [
    "data_dir = Path('data/alphapilot/')\n",
    "raw_fn = data_dir/'data_training'\n",
    "\n",
    "if os.name == 'nt':      \n",
    "    data_dir = Path('../../../../alphapilot/')\n",
    "    raw_fn = data_dir/'Data_Training/Data_Training/'\n",
    "    \n",
    "    \n",
    "indv_models = str(raw_fn/'models')\n",
    "group_models = str(Path(os.getcwd())/'old-models')\n",
    "\n",
    "indv_models, group_models"
   ]
  },
  {
   "cell_type": "code",
   "execution_count": null,
   "metadata": {},
   "outputs": [],
   "source": [
    "#copy into old-models\n",
    "path_sep = '\\\\' if os.name == 'nt' else '/'\n",
    "\n",
    "src = indv_models + path_sep + 'ap4*' \n",
    "dest = group_models + path_sep\n",
    "\n",
    "src, dest\n",
    "!cp $src $dest"
   ]
  },
  {
   "cell_type": "code",
   "execution_count": null,
   "metadata": {},
   "outputs": [],
   "source": [
    "#copy out of old-models into indv-proj data-dirs\n",
    "path_sep = '\\\\' if os.name == 'nt' else '/'\n",
    "# path_sep= '/'\n",
    "\n",
    "src = group_models + path_sep + 'ap4*' \n",
    "dest = indv_models + path_sep\n",
    "\n",
    "src = 'old-models/ap4*'\n",
    "dest = '../../../../alphapilot/Data_Training/Data_Training/models/'\n",
    "\n",
    "src, dest\n",
    "!cp $src $dest"
   ]
  }
 ],
 "metadata": {
  "kernelspec": {
   "display_name": "Python 3",
   "language": "python",
   "name": "python3"
  },
  "language_info": {
   "codemirror_mode": {
    "name": "ipython",
    "version": 3
   },
   "file_extension": ".py",
   "mimetype": "text/x-python",
   "name": "python",
   "nbconvert_exporter": "python",
   "pygments_lexer": "ipython3",
   "version": "3.7.1"
  }
 },
 "nbformat": 4,
 "nbformat_minor": 2
}
