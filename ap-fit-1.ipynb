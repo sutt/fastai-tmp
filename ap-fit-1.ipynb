{
 "cells": [
  {
   "cell_type": "markdown",
   "metadata": {},
   "source": [
    "#### Build Datasets + Fit Models with diff Params\n",
    "built: 4/25 - ?"
   ]
  },
  {
   "cell_type": "code",
   "execution_count": 2,
   "metadata": {},
   "outputs": [
    {
     "data": {
      "text/plain": [
       "0"
      ]
     },
     "execution_count": 2,
     "metadata": {},
     "output_type": "execute_result"
    }
   ],
   "source": [
    "import os, sys, json, copy, random\n",
    "import pandas as pd\n",
    "import numpy as np\n",
    "from fastai.vision import *\n",
    "from fastai.utils.mem import  gpu_mem_get_free_no_cache\n",
    "from modules.ap3data import build_data, clear_gpu_mem\n",
    "gpu_mem_get_free_no_cache()"
   ]
  },
  {
   "cell_type": "code",
   "execution_count": 3,
   "metadata": {},
   "outputs": [
    {
     "name": "stdout",
     "output_type": "stream",
     "text": [
      "\n",
      "\n"
     ]
    }
   ],
   "source": [
    "data_small = build_data(batch_size=16, \n",
    "                        size=(216, 324), \n",
    "                        valid_pct=0.2,\n",
    "                        )\n",
    "data_large = build_data(batch_size=16, \n",
    "                        size=(288, 432), \n",
    "                        valid_pct=0.2,\n",
    "                        )"
   ]
  },
  {
   "cell_type": "code",
   "execution_count": null,
   "metadata": {},
   "outputs": [],
   "source": [
    "'''\n",
    "    4/25, 10:00am\n",
    "    learn_1 - data_large; resnet50\n",
    "    learn_2 - data_large; resnet34\n",
    "    learn_3 - data_small; resent50\n",
    "    learn_4 - data_small; resnet34\n",
    "'''; pass"
   ]
  },
  {
   "cell_type": "code",
   "execution_count": null,
   "metadata": {},
   "outputs": [],
   "source": [
    "lr = 2e-3\n",
    "\n",
    "learn_1 = cnn_learner(data_large, models.resnet50)\n",
    "\n",
    "learn_1.fit_one_cycle(10, slice(lr))\n",
    "\n",
    "learn_1.save('apfit1-1')\n",
    "\n",
    "clear_gpu_mem(learn_1)"
   ]
  },
  {
   "cell_type": "code",
   "execution_count": null,
   "metadata": {},
   "outputs": [],
   "source": [
    "lr = 2e-3\n",
    "\n",
    "learn_2 = cnn_learner(data_large, models.resnet34)\n",
    "\n",
    "learn_2.fit_one_cycle(10, slice(lr))\n",
    "\n",
    "learn_2.save('apfit1-2')\n",
    "\n",
    "clear_gpu_mem(learn_2)"
   ]
  },
  {
   "cell_type": "code",
   "execution_count": null,
   "metadata": {},
   "outputs": [],
   "source": [
    "lr = 2e-3\n",
    "\n",
    "learn_3 = cnn_learner(data_small, models.resnet50)\n",
    "\n",
    "learn_3.fit_one_cycle(10, slice(lr))\n",
    "\n",
    "learn_3.save('apfit1-3')\n",
    "\n",
    "clear_gpu_mem(learn_3)"
   ]
  },
  {
   "cell_type": "code",
   "execution_count": null,
   "metadata": {},
   "outputs": [],
   "source": [
    "lr = 2e-3\n",
    "\n",
    "learn_4 = cnn_learner(data_small, models.resnet34)\n",
    "\n",
    "learn_4.fit_one_cycle(10, slice(lr))\n",
    "\n",
    "learn_4.save('apfit1-4')\n",
    "\n",
    "clear_gpu_mem(learn_4)"
   ]
  },
  {
   "cell_type": "code",
   "execution_count": null,
   "metadata": {},
   "outputs": [],
   "source": []
  },
  {
   "cell_type": "markdown",
   "metadata": {},
   "source": [
    "##### Copy paths into/out of `old-models`"
   ]
  },
  {
   "cell_type": "code",
   "execution_count": null,
   "metadata": {},
   "outputs": [],
   "source": [
    "# ../../../../alphapilot/Data_Training/Data_Training/models/"
   ]
  },
  {
   "cell_type": "code",
   "execution_count": null,
   "metadata": {},
   "outputs": [],
   "source": [
    "data_dir = Path('data/alphapilot/')\n",
    "raw_fn = data_dir/'data_training'\n",
    "\n",
    "if os.name == 'nt':      \n",
    "    data_dir = Path('../../../../alphapilot/')\n",
    "    raw_fn = data_dir/'Data_Training/Data_Training/'\n",
    "    \n",
    "    \n",
    "indv_models = str(raw_fn/'models')\n",
    "group_models = str(Path(os.getcwd())/'old-models')\n",
    "\n",
    "indv_models, group_models"
   ]
  },
  {
   "cell_type": "code",
   "execution_count": null,
   "metadata": {},
   "outputs": [],
   "source": [
    "#copy into old-models\n",
    "path_sep = '\\\\' if os.name == 'nt' else '/'\n",
    "\n",
    "src = indv_models + path_sep + 'ap4*' \n",
    "dest = group_models + path_sep\n",
    "\n",
    "src, dest\n",
    "!cp $src $dest"
   ]
  },
  {
   "cell_type": "code",
   "execution_count": null,
   "metadata": {},
   "outputs": [],
   "source": [
    "#copy out of old-models into indv-proj data-dirs\n",
    "path_sep = '\\\\' if os.name == 'nt' else '/'\n",
    "# path_sep= '/'\n",
    "\n",
    "src = group_models + path_sep + 'ap4*' \n",
    "dest = indv_models + path_sep\n",
    "\n",
    "src = 'old-models/ap4*'\n",
    "dest = '../../../../alphapilot/Data_Training/Data_Training/models/'\n",
    "\n",
    "src, dest\n",
    "!cp $src $dest"
   ]
  }
 ],
 "metadata": {
  "kernelspec": {
   "display_name": "Python 3",
   "language": "python",
   "name": "python3"
  },
  "language_info": {
   "codemirror_mode": {
    "name": "ipython",
    "version": 3
   },
   "file_extension": ".py",
   "mimetype": "text/x-python",
   "name": "python",
   "nbconvert_exporter": "python",
   "pygments_lexer": "ipython3",
   "version": "3.6.8"
  }
 },
 "nbformat": 4,
 "nbformat_minor": 2
}
