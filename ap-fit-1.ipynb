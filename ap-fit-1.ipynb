{
 "cells": [
  {
   "cell_type": "markdown",
   "metadata": {},
   "source": [
    "#### Build Datasets + Fit Models with diff Params\n",
    "built: 4/25 originally,\n",
    "then:  4/30 with new train/valid split"
   ]
  },
  {
   "cell_type": "code",
   "execution_count": 1,
   "metadata": {},
   "outputs": [
    {
     "name": "stdout",
     "output_type": "stream",
     "text": [
      "1.0.53.dev0\n"
     ]
    },
    {
     "data": {
      "text/plain": [
       "7601"
      ]
     },
     "execution_count": 1,
     "metadata": {},
     "output_type": "execute_result"
    }
   ],
   "source": [
    "import os, sys, json, copy, random, datetime\n",
    "import pandas as pd\n",
    "import numpy as np\n",
    "\n",
    "# set to my fork with fix on server\n",
    "sys.path.insert(0, '../../../myfastai')\n",
    "# set to dev-head on local\n",
    "# sys.path.insert(0, '../../../fastaif')\n",
    "\n",
    "import fastai\n",
    "print(fastai.__version__)\n",
    "\n",
    "from fastai.vision import *\n",
    "from fastai.callbacks import CSVLogger\n",
    "from fastai.utils.mem import  gpu_mem_get_free_no_cache\n",
    "from modules.ap3data import build_data, clear_gpu_mem\n",
    "from modules.miscutils import move_file_obj\n",
    "gpu_mem_get_free_no_cache()"
   ]
  },
  {
   "cell_type": "code",
   "execution_count": 2,
   "metadata": {},
   "outputs": [
    {
     "name": "stdout",
     "output_type": "stream",
     "text": [
      "all validation pass\n",
      "all validation pass\n"
     ]
    }
   ],
   "source": [
    "data_small = build_data(batch_size=16, \n",
    "                        size=(216, 324), \n",
    "                        valid_pct=0.2,\n",
    "                        )\n",
    "data_large = build_data(batch_size=16, \n",
    "                        size=(288, 432), \n",
    "                        valid_pct=0.2,\n",
    "                        )"
   ]
  },
  {
   "cell_type": "code",
   "execution_count": 3,
   "metadata": {},
   "outputs": [],
   "source": [
    "'''\n",
    "    4/30, 9:30am - the \"apfit2-X\" series\n",
    "      - should have .csv loggers for each training episode\n",
    "    learn_1 - data_large; resnet50\n",
    "    learn_2 - data_large; resnet34\n",
    "    learn_3 - data_small; resent50\n",
    "    learn_4 - data_small; resnet34\n",
    "'''; pass"
   ]
  },
  {
   "cell_type": "markdown",
   "metadata": {},
   "source": [
    "##### Collect models artifacts post fit (run this after models are fit)"
   ]
  },
  {
   "cell_type": "code",
   "execution_count": 5,
   "metadata": {},
   "outputs": [
    {
     "name": "stdout",
     "output_type": "stream",
     "text": [
      "succesfully copied 4 files, failed on 0 files\n",
      "from data/alphapilot/data_training/models/ to new-models/\n",
      "successes: | data/alphapilot/data_training/models/apfit2-4.pth | data/alphapilot/data_training/models/apfit2-1.pth | data/alphapilot/data_training/models/apfit2-3.pth | data/alphapilot/data_training/models/apfit2-2.pth\n",
      "fails:\n"
     ]
    }
   ],
   "source": [
    "move_file_obj(src= 'data/alphapilot/data_training/models/'\n",
    "             ,dest='new-models/'\n",
    "             ,patterns=['apfit2', '.pth']\n",
    "             ,dry_run=False\n",
    "             )"
   ]
  },
  {
   "cell_type": "code",
   "execution_count": 7,
   "metadata": {},
   "outputs": [
    {
     "name": "stdout",
     "output_type": "stream",
     "text": [
      "succesfully copied 4 files, failed on 0 files\n",
      "from data/alphapilot/data_training/ to new-models/\n",
      "successes: | data/alphapilot/data_training/apfit2-4.csv | data/alphapilot/data_training/apfit2-3.csv | data/alphapilot/data_training/apfit2-2.csv | data/alphapilot/data_training/apfit2-1.csv\n",
      "fails:\n"
     ]
    }
   ],
   "source": [
    "move_file_obj(src= 'data/alphapilot/data_training/'\n",
    "             ,dest='new-models/'\n",
    "             ,patterns=['apfit2', '.csv']\n",
    "             ,dry_run=False\n",
    "             )"
   ]
  },
  {
   "cell_type": "markdown",
   "metadata": {},
   "source": [
    "##### Build & Fit Models - don't touch this subsequently, we can see history here"
   ]
  },
  {
   "cell_type": "code",
   "execution_count": 4,
   "metadata": {},
   "outputs": [
    {
     "data": {
      "text/plain": [
       "7601"
      ]
     },
     "execution_count": 4,
     "metadata": {},
     "output_type": "execute_result"
    }
   ],
   "source": [
    "gpu_mem_get_free_no_cache()"
   ]
  },
  {
   "cell_type": "code",
   "execution_count": 5,
   "metadata": {
    "scrolled": false
   },
   "outputs": [
    {
     "data": {
      "text/html": [
       "Total time: 20:54 <p><table border=\"1\" class=\"dataframe\">\n",
       "  <thead>\n",
       "    <tr style=\"text-align: left;\">\n",
       "      <th>epoch</th>\n",
       "      <th>train_loss</th>\n",
       "      <th>valid_loss</th>\n",
       "      <th>time</th>\n",
       "    </tr>\n",
       "  </thead>\n",
       "  <tbody>\n",
       "    <tr>\n",
       "      <td>0</td>\n",
       "      <td>0.787084</td>\n",
       "      <td>0.197442</td>\n",
       "      <td>02:11</td>\n",
       "    </tr>\n",
       "    <tr>\n",
       "      <td>1</td>\n",
       "      <td>0.157009</td>\n",
       "      <td>0.040867</td>\n",
       "      <td>02:05</td>\n",
       "    </tr>\n",
       "    <tr>\n",
       "      <td>2</td>\n",
       "      <td>0.051705</td>\n",
       "      <td>0.035955</td>\n",
       "      <td>02:04</td>\n",
       "    </tr>\n",
       "    <tr>\n",
       "      <td>3</td>\n",
       "      <td>0.044647</td>\n",
       "      <td>0.032503</td>\n",
       "      <td>02:04</td>\n",
       "    </tr>\n",
       "    <tr>\n",
       "      <td>4</td>\n",
       "      <td>0.034784</td>\n",
       "      <td>0.020355</td>\n",
       "      <td>02:04</td>\n",
       "    </tr>\n",
       "    <tr>\n",
       "      <td>5</td>\n",
       "      <td>0.027509</td>\n",
       "      <td>0.018908</td>\n",
       "      <td>02:04</td>\n",
       "    </tr>\n",
       "    <tr>\n",
       "      <td>6</td>\n",
       "      <td>0.024515</td>\n",
       "      <td>0.012921</td>\n",
       "      <td>02:04</td>\n",
       "    </tr>\n",
       "    <tr>\n",
       "      <td>7</td>\n",
       "      <td>0.020152</td>\n",
       "      <td>0.010891</td>\n",
       "      <td>02:05</td>\n",
       "    </tr>\n",
       "    <tr>\n",
       "      <td>8</td>\n",
       "      <td>0.019492</td>\n",
       "      <td>0.010172</td>\n",
       "      <td>02:04</td>\n",
       "    </tr>\n",
       "    <tr>\n",
       "      <td>9</td>\n",
       "      <td>0.018892</td>\n",
       "      <td>0.010272</td>\n",
       "      <td>02:04</td>\n",
       "    </tr>\n",
       "  </tbody>\n",
       "</table>"
      ],
      "text/plain": [
       "<IPython.core.display.HTML object>"
      ]
     },
     "metadata": {},
     "output_type": "display_data"
    },
    {
     "name": "stdout",
     "output_type": "stream",
     "text": [
      "6876\n",
      "this Learner object self-destroyed - it still exists, but no longer usable\n",
      "7130\n"
     ]
    }
   ],
   "source": [
    "model_fn = 'apfit2-1'\n",
    "lr = 2e-3\n",
    "\n",
    "learn_1 = cnn_learner(data_large, models.resnet50)\n",
    "\n",
    "cb = CSVLogger(learn_1,filename = model_fn)\n",
    "\n",
    "learn_1.fit_one_cycle(10, slice(lr), callbacks=[cb])\n",
    "\n",
    "learn_1.save(model_fn)\n",
    "\n",
    "clear_gpu_mem(learn_1)"
   ]
  },
  {
   "cell_type": "code",
   "execution_count": 6,
   "metadata": {},
   "outputs": [
    {
     "data": {
      "text/html": [
       "Total time: 15:21 <p><table border=\"1\" class=\"dataframe\">\n",
       "  <thead>\n",
       "    <tr style=\"text-align: left;\">\n",
       "      <th>epoch</th>\n",
       "      <th>train_loss</th>\n",
       "      <th>valid_loss</th>\n",
       "      <th>time</th>\n",
       "    </tr>\n",
       "  </thead>\n",
       "  <tbody>\n",
       "    <tr>\n",
       "      <td>0</td>\n",
       "      <td>0.780102</td>\n",
       "      <td>0.162783</td>\n",
       "      <td>01:31</td>\n",
       "    </tr>\n",
       "    <tr>\n",
       "      <td>1</td>\n",
       "      <td>0.161491</td>\n",
       "      <td>0.046588</td>\n",
       "      <td>01:31</td>\n",
       "    </tr>\n",
       "    <tr>\n",
       "      <td>2</td>\n",
       "      <td>0.054535</td>\n",
       "      <td>0.035219</td>\n",
       "      <td>01:32</td>\n",
       "    </tr>\n",
       "    <tr>\n",
       "      <td>3</td>\n",
       "      <td>0.047526</td>\n",
       "      <td>0.028836</td>\n",
       "      <td>01:31</td>\n",
       "    </tr>\n",
       "    <tr>\n",
       "      <td>4</td>\n",
       "      <td>0.039283</td>\n",
       "      <td>0.023253</td>\n",
       "      <td>01:31</td>\n",
       "    </tr>\n",
       "    <tr>\n",
       "      <td>5</td>\n",
       "      <td>0.033630</td>\n",
       "      <td>0.019634</td>\n",
       "      <td>01:33</td>\n",
       "    </tr>\n",
       "    <tr>\n",
       "      <td>6</td>\n",
       "      <td>0.029332</td>\n",
       "      <td>0.017184</td>\n",
       "      <td>01:32</td>\n",
       "    </tr>\n",
       "    <tr>\n",
       "      <td>7</td>\n",
       "      <td>0.027924</td>\n",
       "      <td>0.014971</td>\n",
       "      <td>01:31</td>\n",
       "    </tr>\n",
       "    <tr>\n",
       "      <td>8</td>\n",
       "      <td>0.025270</td>\n",
       "      <td>0.014369</td>\n",
       "      <td>01:32</td>\n",
       "    </tr>\n",
       "    <tr>\n",
       "      <td>9</td>\n",
       "      <td>0.025823</td>\n",
       "      <td>0.014592</td>\n",
       "      <td>01:32</td>\n",
       "    </tr>\n",
       "  </tbody>\n",
       "</table>"
      ],
      "text/plain": [
       "<IPython.core.display.HTML object>"
      ]
     },
     "metadata": {},
     "output_type": "display_data"
    },
    {
     "name": "stdout",
     "output_type": "stream",
     "text": [
      "6962\n",
      "this Learner object self-destroyed - it still exists, but no longer usable\n",
      "7130\n"
     ]
    }
   ],
   "source": [
    "model_fn = 'apfit2-2'\n",
    "\n",
    "lr = 2e-3\n",
    "\n",
    "learn_2 = cnn_learner(data_large, models.resnet34)\n",
    "\n",
    "cb = CSVLogger(learn_2,filename = model_fn)\n",
    "\n",
    "learn_2.fit_one_cycle(10, slice(lr), callbacks=[cb])\n",
    "\n",
    "learn_2.save('apfit2-2')\n",
    "\n",
    "clear_gpu_mem(learn_2)"
   ]
  },
  {
   "cell_type": "code",
   "execution_count": 7,
   "metadata": {},
   "outputs": [
    {
     "data": {
      "text/html": [
       "Total time: 13:36 <p><table border=\"1\" class=\"dataframe\">\n",
       "  <thead>\n",
       "    <tr style=\"text-align: left;\">\n",
       "      <th>epoch</th>\n",
       "      <th>train_loss</th>\n",
       "      <th>valid_loss</th>\n",
       "      <th>time</th>\n",
       "    </tr>\n",
       "  </thead>\n",
       "  <tbody>\n",
       "    <tr>\n",
       "      <td>0</td>\n",
       "      <td>0.778895</td>\n",
       "      <td>0.196213</td>\n",
       "      <td>01:27</td>\n",
       "    </tr>\n",
       "    <tr>\n",
       "      <td>1</td>\n",
       "      <td>0.159105</td>\n",
       "      <td>0.043889</td>\n",
       "      <td>01:20</td>\n",
       "    </tr>\n",
       "    <tr>\n",
       "      <td>2</td>\n",
       "      <td>0.052529</td>\n",
       "      <td>0.037831</td>\n",
       "      <td>01:20</td>\n",
       "    </tr>\n",
       "    <tr>\n",
       "      <td>3</td>\n",
       "      <td>0.042347</td>\n",
       "      <td>0.025401</td>\n",
       "      <td>01:21</td>\n",
       "    </tr>\n",
       "    <tr>\n",
       "      <td>4</td>\n",
       "      <td>0.032264</td>\n",
       "      <td>0.019036</td>\n",
       "      <td>01:20</td>\n",
       "    </tr>\n",
       "    <tr>\n",
       "      <td>5</td>\n",
       "      <td>0.027417</td>\n",
       "      <td>0.014652</td>\n",
       "      <td>01:20</td>\n",
       "    </tr>\n",
       "    <tr>\n",
       "      <td>6</td>\n",
       "      <td>0.021851</td>\n",
       "      <td>0.012066</td>\n",
       "      <td>01:21</td>\n",
       "    </tr>\n",
       "    <tr>\n",
       "      <td>7</td>\n",
       "      <td>0.019765</td>\n",
       "      <td>0.009866</td>\n",
       "      <td>01:20</td>\n",
       "    </tr>\n",
       "    <tr>\n",
       "      <td>8</td>\n",
       "      <td>0.018443</td>\n",
       "      <td>0.009585</td>\n",
       "      <td>01:20</td>\n",
       "    </tr>\n",
       "    <tr>\n",
       "      <td>9</td>\n",
       "      <td>0.017469</td>\n",
       "      <td>0.009145</td>\n",
       "      <td>01:21</td>\n",
       "    </tr>\n",
       "  </tbody>\n",
       "</table>"
      ],
      "text/plain": [
       "<IPython.core.display.HTML object>"
      ]
     },
     "metadata": {},
     "output_type": "display_data"
    },
    {
     "name": "stdout",
     "output_type": "stream",
     "text": [
      "7004\n",
      "this Learner object self-destroyed - it still exists, but no longer usable\n",
      "7130\n"
     ]
    }
   ],
   "source": [
    "model_fn = 'apfit2-3'\n",
    "lr = 2e-3\n",
    "\n",
    "learn_3 = cnn_learner(data_small, models.resnet50)\n",
    "\n",
    "cb = CSVLogger(learn_3,filename = model_fn)\n",
    "\n",
    "learn_3.fit_one_cycle(10, slice(lr), callbacks=[cb])\n",
    "\n",
    "learn_3.save(model_fn)\n",
    "\n",
    "clear_gpu_mem(learn_3)"
   ]
  },
  {
   "cell_type": "code",
   "execution_count": 8,
   "metadata": {},
   "outputs": [
    {
     "data": {
      "text/html": [
       "Total time: 11:56 <p><table border=\"1\" class=\"dataframe\">\n",
       "  <thead>\n",
       "    <tr style=\"text-align: left;\">\n",
       "      <th>epoch</th>\n",
       "      <th>train_loss</th>\n",
       "      <th>valid_loss</th>\n",
       "      <th>time</th>\n",
       "    </tr>\n",
       "  </thead>\n",
       "  <tbody>\n",
       "    <tr>\n",
       "      <td>0</td>\n",
       "      <td>0.738168</td>\n",
       "      <td>0.151863</td>\n",
       "      <td>01:12</td>\n",
       "    </tr>\n",
       "    <tr>\n",
       "      <td>1</td>\n",
       "      <td>0.148558</td>\n",
       "      <td>0.045248</td>\n",
       "      <td>01:12</td>\n",
       "    </tr>\n",
       "    <tr>\n",
       "      <td>2</td>\n",
       "      <td>0.050962</td>\n",
       "      <td>0.029337</td>\n",
       "      <td>01:11</td>\n",
       "    </tr>\n",
       "    <tr>\n",
       "      <td>3</td>\n",
       "      <td>0.048955</td>\n",
       "      <td>0.031977</td>\n",
       "      <td>01:11</td>\n",
       "    </tr>\n",
       "    <tr>\n",
       "      <td>4</td>\n",
       "      <td>0.040366</td>\n",
       "      <td>0.024086</td>\n",
       "      <td>01:11</td>\n",
       "    </tr>\n",
       "    <tr>\n",
       "      <td>5</td>\n",
       "      <td>0.034146</td>\n",
       "      <td>0.020102</td>\n",
       "      <td>01:12</td>\n",
       "    </tr>\n",
       "    <tr>\n",
       "      <td>6</td>\n",
       "      <td>0.030185</td>\n",
       "      <td>0.018798</td>\n",
       "      <td>01:11</td>\n",
       "    </tr>\n",
       "    <tr>\n",
       "      <td>7</td>\n",
       "      <td>0.026659</td>\n",
       "      <td>0.015597</td>\n",
       "      <td>01:10</td>\n",
       "    </tr>\n",
       "    <tr>\n",
       "      <td>8</td>\n",
       "      <td>0.024047</td>\n",
       "      <td>0.014824</td>\n",
       "      <td>01:10</td>\n",
       "    </tr>\n",
       "    <tr>\n",
       "      <td>9</td>\n",
       "      <td>0.024152</td>\n",
       "      <td>0.014589</td>\n",
       "      <td>01:11</td>\n",
       "    </tr>\n",
       "  </tbody>\n",
       "</table>"
      ],
      "text/plain": [
       "<IPython.core.display.HTML object>"
      ]
     },
     "metadata": {},
     "output_type": "display_data"
    },
    {
     "name": "stdout",
     "output_type": "stream",
     "text": [
      "6992\n",
      "this Learner object self-destroyed - it still exists, but no longer usable\n",
      "7130\n"
     ]
    }
   ],
   "source": [
    "model_fn = 'apfit2-4'\n",
    "lr = 2e-3\n",
    "\n",
    "learn_4 = cnn_learner(data_small, models.resnet34)\n",
    "\n",
    "cb = CSVLogger(learn_4, filename = model_fn)\n",
    "\n",
    "learn_4.fit_one_cycle(10, slice(lr), callbacks=[cb])\n",
    "\n",
    "learn_4.save(model_fn)\n",
    "\n",
    "clear_gpu_mem(learn_4)"
   ]
  }
 ],
 "metadata": {
  "kernelspec": {
   "display_name": "Python 3",
   "language": "python",
   "name": "python3"
  },
  "language_info": {
   "codemirror_mode": {
    "name": "ipython",
    "version": 3
   },
   "file_extension": ".py",
   "mimetype": "text/x-python",
   "name": "python",
   "nbconvert_exporter": "python",
   "pygments_lexer": "ipython3",
   "version": "3.7.1"
  }
 },
 "nbformat": 4,
 "nbformat_minor": 2
}
