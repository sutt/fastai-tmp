{
 "cells": [
  {
   "cell_type": "markdown",
   "metadata": {},
   "source": [
    "#### Build Datasets + Fit Models with diff Params\n",
    "built: 5/2 4:00pm"
   ]
  },
  {
   "cell_type": "code",
   "execution_count": null,
   "metadata": {},
   "outputs": [],
   "source": [
    "import os, sys, json, copy, random, datetime\n",
    "import pandas as pd\n",
    "import numpy as np\n",
    "\n",
    "# set to my fork with fix on server\n",
    "sys.path.insert(0, '../../../myfastai')\n",
    "# set to dev-head on local\n",
    "# sys.path.insert(0, '../../../fastaif')\n",
    "\n",
    "import fastai\n",
    "print(fastai.__version__)\n",
    "\n",
    "from fastai.vision import *\n",
    "from fastai.callbacks import CSVLogger\n",
    "from fastai.utils.mem import  gpu_mem_get_free_no_cache\n",
    "from modules.ap3data import build_data, clear_gpu_mem\n",
    "from modules.miscutils import move_file_obj\n",
    "gpu_mem_get_free_no_cache()"
   ]
  },
  {
   "cell_type": "code",
   "execution_count": null,
   "metadata": {},
   "outputs": [],
   "source": [
    "data_small = build_data(batch_size=16, \n",
    "                        size=(216, 324), \n",
    "                        valid_pct=0.2,\n",
    "                        )\n",
    "data_large = build_data(batch_size=16, \n",
    "                        size=(288, 432), \n",
    "                        valid_pct=0.2,\n",
    "                        )"
   ]
  },
  {
   "cell_type": "code",
   "execution_count": 1,
   "metadata": {},
   "outputs": [],
   "source": [
    "'''\n",
    "    5/2, 4:30pm - the \"apfit2a-X\" series\n",
    "      - should have .csv loggers for each training episode\n",
    "    \n",
    "    common  -  data_large, resnet50\n",
    "    learn_1 -  learn splice\n",
    "    learn_2 -  learn splice opposite way\n",
    "    learn_3 -  constant lr at 50% the rate\n",
    "'''\n",
    "pass"
   ]
  },
  {
   "cell_type": "markdown",
   "metadata": {},
   "source": [
    "##### Collect models artifacts post fit (run this after models are fit)"
   ]
  },
  {
   "cell_type": "code",
   "execution_count": null,
   "metadata": {},
   "outputs": [],
   "source": [
    "# move_file_obj(src= 'data/alphapilot/data_training/models/'\n",
    "#              ,dest='new-models/'\n",
    "#              ,patterns=['apfit2a', '.pth']\n",
    "#              ,dry_run=False\n",
    "#              )"
   ]
  },
  {
   "cell_type": "code",
   "execution_count": null,
   "metadata": {},
   "outputs": [],
   "source": [
    "# move_file_obj(src= 'data/alphapilot/data_training/'\n",
    "#              ,dest='new-models/'\n",
    "#              ,patterns=['apfit2a', '.csv']\n",
    "#              ,dry_run=False\n",
    "#              )"
   ]
  },
  {
   "cell_type": "markdown",
   "metadata": {},
   "source": [
    "##### Build & Fit Models - don't touch this subsequently, we can see history here"
   ]
  },
  {
   "cell_type": "code",
   "execution_count": null,
   "metadata": {},
   "outputs": [],
   "source": [
    "gpu_mem_get_free_no_cache()"
   ]
  },
  {
   "cell_type": "code",
   "execution_count": null,
   "metadata": {
    "scrolled": false
   },
   "outputs": [],
   "source": [
    "model_fn = 'apfit2a-1'\n",
    "lr0, lr1 = 2e-4, 2e-3\n",
    "\n",
    "learn_1 = cnn_learner(data_large, models.resnet50)\n",
    "\n",
    "cb = CSVLogger(learn_1,filename = model_fn)\n",
    "\n",
    "learn_1.fit_one_cycle(10, slice(lr0, lr1), callbacks=[cb])\n",
    "\n",
    "learn_1.save(model_fn)\n",
    "\n",
    "clear_gpu_mem(learn_1)"
   ]
  },
  {
   "cell_type": "code",
   "execution_count": null,
   "metadata": {},
   "outputs": [],
   "source": [
    "model_fn = 'apfit2a-2'\n",
    "lr0, lr1 = 2e-3, 2e-4\n",
    "\n",
    "learn_2 = cnn_learner(data_large, models.resnet50)\n",
    "\n",
    "cb = CSVLogger(learn_2,filename = model_fn)\n",
    "\n",
    "learn_2.fit_one_cycle(10, slice(lr0, lr1), callbacks=[cb])\n",
    "\n",
    "learn_2.save(model_fn)\n",
    "\n",
    "clear_gpu_mem(learn_2)"
   ]
  },
  {
   "cell_type": "code",
   "execution_count": null,
   "metadata": {},
   "outputs": [],
   "source": [
    "model_fn = 'apfit2a-3'\n",
    "\n",
    "lr = 1e-3\n",
    "\n",
    "learn_3 = cnn_learner(data_large, models.resnet50)\n",
    "\n",
    "cb = CSVLogger(learn_3,filename = model_fn)\n",
    "\n",
    "learn_3.fit_one_cycle(10, slice(lr), callbacks=[cb])\n",
    "\n",
    "learn_3.save(model_fn)\n",
    "\n",
    "clear_gpu_mem(learn_3)"
   ]
  }
 ],
 "metadata": {
  "kernelspec": {
   "display_name": "Python 3",
   "language": "python",
   "name": "python3"
  },
  "language_info": {
   "codemirror_mode": {
    "name": "ipython",
    "version": 3
   },
   "file_extension": ".py",
   "mimetype": "text/x-python",
   "name": "python",
   "nbconvert_exporter": "python",
   "pygments_lexer": "ipython3",
   "version": "3.6.8"
  }
 },
 "nbformat": 4,
 "nbformat_minor": 2
}
