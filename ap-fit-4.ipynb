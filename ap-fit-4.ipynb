{
 "cells": [
  {
   "cell_type": "markdown",
   "metadata": {},
   "source": [
    "#### Build Datasets + Fit Models with diff Params\n",
    "built: 5/4 11:00am\n",
    "\n",
    "- note: this is the first time we're applying points in correct order"
   ]
  },
  {
   "cell_type": "code",
   "execution_count": 1,
   "metadata": {},
   "outputs": [
    {
     "name": "stdout",
     "output_type": "stream",
     "text": [
      "1.0.53.dev0\n"
     ]
    },
    {
     "data": {
      "text/plain": [
       "7601"
      ]
     },
     "execution_count": 1,
     "metadata": {},
     "output_type": "execute_result"
    }
   ],
   "source": [
    "import os, sys, json, copy, random, datetime\n",
    "import pandas as pd\n",
    "import numpy as np\n",
    "\n",
    "# set to my fork with fix on server\n",
    "sys.path.insert(0, '../../../myfastai')\n",
    "# set to dev-head on local\n",
    "# sys.path.insert(0, '../../../fastaif')\n",
    "\n",
    "import fastai\n",
    "print(fastai.__version__)\n",
    "\n",
    "from fastai.vision import *\n",
    "from fastai.callbacks import CSVLogger\n",
    "from fastai.utils.mem import  gpu_mem_get_free_no_cache\n",
    "from modules.ap3data import build_data, clear_gpu_mem\n",
    "from modules.miscutils import move_file_obj\n",
    "gpu_mem_get_free_no_cache()"
   ]
  },
  {
   "cell_type": "code",
   "execution_count": 2,
   "metadata": {},
   "outputs": [
    {
     "name": "stdout",
     "output_type": "stream",
     "text": [
      "all validations pass\n"
     ]
    }
   ],
   "source": [
    "data_large = build_data(batch_size=8, \n",
    "                        size=(288, 432), \n",
    "                        valid_pct=0.2,\n",
    "                        correct_order=True,\n",
    "                        )"
   ]
  },
  {
   "cell_type": "code",
   "execution_count": 1,
   "metadata": {},
   "outputs": [],
   "source": [
    "'''\n",
    "    5/4, 11:00am - the \"apfit4-X\" series\n",
    "      - should have .csv loggers for each training episode\n",
    "    \n",
    "    common  -  data_large, resnet50, batchsize=8\n",
    "    learn_1 -  learn splice\n",
    "'''\n",
    "pass"
   ]
  },
  {
   "cell_type": "markdown",
   "metadata": {},
   "source": [
    "##### Build & Fit Models - don't touch this subsequently, we can see history here"
   ]
  },
  {
   "cell_type": "code",
   "execution_count": 3,
   "metadata": {},
   "outputs": [
    {
     "data": {
      "text/plain": [
       "7601"
      ]
     },
     "execution_count": 3,
     "metadata": {},
     "output_type": "execute_result"
    }
   ],
   "source": [
    "gpu_mem_get_free_no_cache()"
   ]
  },
  {
   "cell_type": "code",
   "execution_count": 4,
   "metadata": {},
   "outputs": [
    {
     "data": {
      "text/html": [
       "Total time: 21:26 <p><table border=\"1\" class=\"dataframe\">\n",
       "  <thead>\n",
       "    <tr style=\"text-align: left;\">\n",
       "      <th>epoch</th>\n",
       "      <th>train_loss</th>\n",
       "      <th>valid_loss</th>\n",
       "      <th>time</th>\n",
       "    </tr>\n",
       "  </thead>\n",
       "  <tbody>\n",
       "    <tr>\n",
       "      <td>0</td>\n",
       "      <td>0.507853</td>\n",
       "      <td>0.121862</td>\n",
       "      <td>02:15</td>\n",
       "    </tr>\n",
       "    <tr>\n",
       "      <td>1</td>\n",
       "      <td>0.060418</td>\n",
       "      <td>0.029864</td>\n",
       "      <td>02:07</td>\n",
       "    </tr>\n",
       "    <tr>\n",
       "      <td>2</td>\n",
       "      <td>0.036502</td>\n",
       "      <td>0.017979</td>\n",
       "      <td>02:07</td>\n",
       "    </tr>\n",
       "    <tr>\n",
       "      <td>3</td>\n",
       "      <td>0.018777</td>\n",
       "      <td>0.008735</td>\n",
       "      <td>02:07</td>\n",
       "    </tr>\n",
       "    <tr>\n",
       "      <td>4</td>\n",
       "      <td>0.014257</td>\n",
       "      <td>0.004860</td>\n",
       "      <td>02:07</td>\n",
       "    </tr>\n",
       "    <tr>\n",
       "      <td>5</td>\n",
       "      <td>0.011946</td>\n",
       "      <td>0.003674</td>\n",
       "      <td>02:07</td>\n",
       "    </tr>\n",
       "    <tr>\n",
       "      <td>6</td>\n",
       "      <td>0.010567</td>\n",
       "      <td>0.002591</td>\n",
       "      <td>02:07</td>\n",
       "    </tr>\n",
       "    <tr>\n",
       "      <td>7</td>\n",
       "      <td>0.010711</td>\n",
       "      <td>0.002147</td>\n",
       "      <td>02:07</td>\n",
       "    </tr>\n",
       "    <tr>\n",
       "      <td>8</td>\n",
       "      <td>0.010413</td>\n",
       "      <td>0.002045</td>\n",
       "      <td>02:08</td>\n",
       "    </tr>\n",
       "    <tr>\n",
       "      <td>9</td>\n",
       "      <td>0.009151</td>\n",
       "      <td>0.001920</td>\n",
       "      <td>02:08</td>\n",
       "    </tr>\n",
       "  </tbody>\n",
       "</table>"
      ],
      "text/plain": [
       "<IPython.core.display.HTML object>"
      ]
     },
     "metadata": {},
     "output_type": "display_data"
    },
    {
     "name": "stdout",
     "output_type": "stream",
     "text": [
      "6934\n",
      "this Learner object self-destroyed - it still exists, but no longer usable\n",
      "7130\n"
     ]
    }
   ],
   "source": [
    "model_fn = 'apfit4-1'\n",
    "lr0, lr1 = 2e-4, 2e-3\n",
    "\n",
    "learn_1 = cnn_learner(data_large, models.resnet50)\n",
    "\n",
    "cb = CSVLogger(learn_1,filename = model_fn)\n",
    "\n",
    "learn_1.fit_one_cycle(10, slice(lr0, lr1), callbacks=[cb])\n",
    "\n",
    "learn_1.save(model_fn)\n",
    "\n",
    "clear_gpu_mem(learn_1)"
   ]
  },
  {
   "cell_type": "code",
   "execution_count": 4,
   "metadata": {
    "scrolled": false
   },
   "outputs": [
    {
     "data": {
      "text/html": [
       "Total time: 20:57 <p><table border=\"1\" class=\"dataframe\">\n",
       "  <thead>\n",
       "    <tr style=\"text-align: left;\">\n",
       "      <th>epoch</th>\n",
       "      <th>train_loss</th>\n",
       "      <th>valid_loss</th>\n",
       "      <th>time</th>\n",
       "    </tr>\n",
       "  </thead>\n",
       "  <tbody>\n",
       "    <tr>\n",
       "      <td>0</td>\n",
       "      <td>0.602543</td>\n",
       "      <td>0.157159</td>\n",
       "      <td>02:12</td>\n",
       "    </tr>\n",
       "    <tr>\n",
       "      <td>1</td>\n",
       "      <td>0.071170</td>\n",
       "      <td>0.036310</td>\n",
       "      <td>02:04</td>\n",
       "    </tr>\n",
       "    <tr>\n",
       "      <td>2</td>\n",
       "      <td>0.050026</td>\n",
       "      <td>0.029526</td>\n",
       "      <td>02:05</td>\n",
       "    </tr>\n",
       "    <tr>\n",
       "      <td>3</td>\n",
       "      <td>0.030308</td>\n",
       "      <td>0.016320</td>\n",
       "      <td>02:05</td>\n",
       "    </tr>\n",
       "    <tr>\n",
       "      <td>4</td>\n",
       "      <td>0.023609</td>\n",
       "      <td>0.010651</td>\n",
       "      <td>02:05</td>\n",
       "    </tr>\n",
       "    <tr>\n",
       "      <td>5</td>\n",
       "      <td>0.019999</td>\n",
       "      <td>0.007913</td>\n",
       "      <td>02:04</td>\n",
       "    </tr>\n",
       "    <tr>\n",
       "      <td>6</td>\n",
       "      <td>0.017735</td>\n",
       "      <td>0.006630</td>\n",
       "      <td>02:04</td>\n",
       "    </tr>\n",
       "    <tr>\n",
       "      <td>7</td>\n",
       "      <td>0.016456</td>\n",
       "      <td>0.006976</td>\n",
       "      <td>02:04</td>\n",
       "    </tr>\n",
       "    <tr>\n",
       "      <td>8</td>\n",
       "      <td>0.015185</td>\n",
       "      <td>0.006070</td>\n",
       "      <td>02:05</td>\n",
       "    </tr>\n",
       "    <tr>\n",
       "      <td>9</td>\n",
       "      <td>0.016185</td>\n",
       "      <td>0.005952</td>\n",
       "      <td>02:05</td>\n",
       "    </tr>\n",
       "  </tbody>\n",
       "</table>"
      ],
      "text/plain": [
       "<IPython.core.display.HTML object>"
      ]
     },
     "metadata": {},
     "output_type": "display_data"
    },
    {
     "name": "stdout",
     "output_type": "stream",
     "text": [
      "6934\n",
      "this Learner object self-destroyed - it still exists, but no longer usable\n",
      "7130\n"
     ]
    }
   ],
   "source": [
    "model_fn = 'apfit4-1'\n",
    "lr0, lr1 = 2e-4, 2e-3\n",
    "\n",
    "learn_1 = cnn_learner(data_large, models.resnet50)\n",
    "\n",
    "cb = CSVLogger(learn_1,filename = model_fn)\n",
    "\n",
    "learn_1.fit_one_cycle(10, slice(lr0, lr1), callbacks=[cb])\n",
    "\n",
    "learn_1.save(model_fn)\n",
    "\n",
    "clear_gpu_mem(learn_1)"
   ]
  },
  {
   "cell_type": "code",
   "execution_count": null,
   "metadata": {},
   "outputs": [],
   "source": []
  }
 ],
 "metadata": {
  "kernelspec": {
   "display_name": "Python 3",
   "language": "python",
   "name": "python3"
  },
  "language_info": {
   "codemirror_mode": {
    "name": "ipython",
    "version": 3
   },
   "file_extension": ".py",
   "mimetype": "text/x-python",
   "name": "python",
   "nbconvert_exporter": "python",
   "pygments_lexer": "ipython3",
   "version": "3.7.1"
  }
 },
 "nbformat": 4,
 "nbformat_minor": 2
}
