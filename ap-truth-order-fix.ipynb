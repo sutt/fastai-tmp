{
 "cells": [
  {
   "cell_type": "code",
   "execution_count": 44,
   "metadata": {},
   "outputs": [
    {
     "name": "stdout",
     "output_type": "stream",
     "text": [
      "1.0.53.dev0\n"
     ]
    }
   ],
   "source": [
    "import os, sys, json, copy, random, pickle, time\n",
    "import pandas as pd\n",
    "import numpy as np\n",
    "from matplotlib import pyplot as plt\n",
    "\n",
    "# set to my fork with fix on server\n",
    "# sys.path.insert(0, '../../../myfastai')\n",
    "# set to dev-head on local\n",
    "sys.path.insert(0, '../../../fastaif')\n",
    "import fastai\n",
    "print(fastai.__version__)\n",
    "\n",
    "from fastai.vision import *\n",
    "\n",
    "%reload_ext autoreload\n",
    "%autoreload 2\n",
    "\n",
    "from modules.ap3data import build_data\n",
    "\n",
    "from modules.modeleval import GroundTruth"
   ]
  },
  {
   "cell_type": "code",
   "execution_count": 100,
   "metadata": {},
   "outputs": [
    {
     "name": "stdout",
     "output_type": "stream",
     "text": [
      "warning - points are not nec in the right order\n",
      "all validations pass\n"
     ]
    }
   ],
   "source": [
    "data_bad = build_data(batch_size=16, \n",
    "                        size=(288, 432), \n",
    "                        valid_pct=0.2,\n",
    "                        correct_order=False,\n",
    "                        )"
   ]
  },
  {
   "cell_type": "code",
   "execution_count": 167,
   "metadata": {},
   "outputs": [
    {
     "name": "stdout",
     "output_type": "stream",
     "text": [
      "all validations pass\n"
     ]
    }
   ],
   "source": [
    "data_good = build_data(batch_size=16, \n",
    "                        size=(288, 432), \n",
    "                        valid_pct=0.2,\n",
    "                        correct_order=True,\n",
    "                        bypass_validation=False,\n",
    "                        )"
   ]
  },
  {
   "cell_type": "code",
   "execution_count": 168,
   "metadata": {},
   "outputs": [],
   "source": [
    "def order_check(data, ret_all=False):\n",
    "    y = [e for e in data.train_dl.y.items]\n",
    "    y.extend([e for e in data.valid_dl.y.items])\n",
    "    gt = GroundTruth(y)\n",
    "    return gt.verify_order(ret_all=ret_all)"
   ]
  },
  {
   "cell_type": "code",
   "execution_count": 169,
   "metadata": {},
   "outputs": [
    {
     "name": "stdout",
     "output_type": "stream",
     "text": [
      "order at ind 122 is (1, 0, 3, 2) not (0, 1, 2, 3) \n",
      " y_flow:\n",
      " tensor([[374., 737.],\n",
      "        [368., 511.],\n",
      "        [595., 507.],\n",
      "        [599., 731.]])\n"
     ]
    },
    {
     "data": {
      "text/plain": [
       "False"
      ]
     },
     "execution_count": 169,
     "metadata": {},
     "output_type": "execute_result"
    }
   ],
   "source": [
    "order_check(data_bad)"
   ]
  },
  {
   "cell_type": "code",
   "execution_count": 170,
   "metadata": {},
   "outputs": [
    {
     "data": {
      "text/plain": [
       "True"
      ]
     },
     "execution_count": 170,
     "metadata": {},
     "output_type": "execute_result"
    }
   ],
   "source": [
    "order_check(data_good)"
   ]
  },
  {
   "cell_type": "code",
   "execution_count": 172,
   "metadata": {},
   "outputs": [
    {
     "name": "stdout",
     "output_type": "stream",
     "text": [
      "416\n"
     ]
    },
    {
     "data": {
      "text/plain": [
       "[(122, tensor([[374., 737.],\n",
       "          [368., 511.],\n",
       "          [595., 507.],\n",
       "          [599., 731.]]), (1, 0, 3, 2)), (183, tensor([[394., 833.],\n",
       "          [390., 647.],\n",
       "          [576., 642.],\n",
       "          [581., 831.]]), (1, 0, 3, 2)), (226, tensor([[199., 992.],\n",
       "          [134., 522.],\n",
       "          [754., 517.],\n",
       "          [701., 982.]]), (1, 0, 3, 2))]"
      ]
     },
     "execution_count": 172,
     "metadata": {},
     "output_type": "execute_result"
    }
   ],
   "source": [
    "ret = order_check(data_bad, ret_all=True)\n",
    "\n",
    "print(len(ret))\n",
    "\n",
    "ret[:3]"
   ]
  },
  {
   "cell_type": "code",
   "execution_count": null,
   "metadata": {},
   "outputs": [],
   "source": []
  }
 ],
 "metadata": {
  "kernelspec": {
   "display_name": "Python 3",
   "language": "python",
   "name": "python3"
  },
  "language_info": {
   "codemirror_mode": {
    "name": "ipython",
    "version": 3
   },
   "file_extension": ".py",
   "mimetype": "text/x-python",
   "name": "python",
   "nbconvert_exporter": "python",
   "pygments_lexer": "ipython3",
   "version": "3.6.8"
  }
 },
 "nbformat": 4,
 "nbformat_minor": 2
}
