{
 "cells": [
  {
   "cell_type": "code",
   "execution_count": 1,
   "metadata": {},
   "outputs": [],
   "source": [
    "import os, sys\n",
    "from pathlib import Path"
   ]
  },
  {
   "cell_type": "code",
   "execution_count": 2,
   "metadata": {},
   "outputs": [],
   "source": [
    "# set to my fork with fix on server\n",
    "sys.path.insert(0, '../../../myfastai')\n",
    "\n",
    "# set to dev-head on local\n",
    "# sys.path.insert(0, '../../../fastaif')"
   ]
  },
  {
   "cell_type": "code",
   "execution_count": 3,
   "metadata": {},
   "outputs": [
    {
     "data": {
      "text/plain": [
       "'1.0.53.dev0'"
      ]
     },
     "execution_count": 3,
     "metadata": {},
     "output_type": "execute_result"
    }
   ],
   "source": [
    "import fastai\n",
    "fastai.__version__"
   ]
  },
  {
   "cell_type": "markdown",
   "metadata": {},
   "source": [
    "##### Demonstrate fix sorts the same"
   ]
  },
  {
   "cell_type": "code",
   "execution_count": 7,
   "metadata": {},
   "outputs": [],
   "source": [
    "from fastai.data_block import _get_files, get_files\n",
    "\n",
    "def is_local(name='DESKTOP-5VTC260'):\n",
    "    # change `name` to reflect your computer user-name\n",
    "    sys_vars = os.environ\n",
    "    return ( sys_vars.get('NAME', '') == name\n",
    "             or sys_vars.get('COMPUTERNAME', '') == name)"
   ]
  },
  {
   "cell_type": "code",
   "execution_count": 14,
   "metadata": {},
   "outputs": [
    {
     "name": "stdout",
     "output_type": "stream",
     "text": [
      "on GCP server\n",
      "demo-dogs/dogs/dog_1.txt\n",
      "demo-dogs/dogs/dog_2.txt\n",
      "demo-dogs/dogs/dog_3.txt\n"
     ]
    }
   ],
   "source": [
    "if not(is_local()):\n",
    "    print('on GCP server')\n",
    "    ret = get_files(path=Path('demo-dogs/dogs'), extensions=['.txt'])\n",
    "    print(*ret, sep='\\n')"
   ]
  },
  {
   "cell_type": "code",
   "execution_count": 15,
   "metadata": {},
   "outputs": [
    {
     "name": "stdout",
     "output_type": "stream",
     "text": [
      "on GCP server; using presort=False\n",
      "demo-dogs/dogs/dog_2.txt\n",
      "demo-dogs/dogs/dog_3.txt\n",
      "demo-dogs/dogs/dog_1.txt\n"
     ]
    }
   ],
   "source": [
    "if not(is_local()):\n",
    "    print('on GCP server; using presort=False')\n",
    "    ret = get_files(path=Path('demo-dogs/dogs'), extensions=['.txt']\n",
    "                    ,presort=False)\n",
    "    print(*ret, sep='\\n')"
   ]
  },
  {
   "cell_type": "code",
   "execution_count": 6,
   "metadata": {},
   "outputs": [
    {
     "name": "stdout",
     "output_type": "stream",
     "text": [
      "on laptop, windows env\n",
      "demo-dogs/dogs\n",
      "demo-dogs/dogs/dog_1.txt\n",
      "demo-dogs/dogs/dog_2.txt\n",
      "demo-dogs/dogs/dog_3.txt\n",
      "-----\n",
      "demo-dogs/new-dogs/demo-dogs/dogs\n",
      "demo-dogs/new-dogs/demo-dogs/dogs/dog_1.txt\n",
      "demo-dogs/new-dogs/demo-dogs/dogs/dog_2.txt\n",
      "demo-dogs/new-dogs/demo-dogs/dogs/dog_3.txt\n"
     ]
    }
   ],
   "source": [
    "if is_local() and os.name == 'posix':\n",
    "    print('on laptop, windows env')\n",
    "    return_files()"
   ]
  },
  {
   "cell_type": "code",
   "execution_count": 8,
   "metadata": {},
   "outputs": [
    {
     "name": "stdout",
     "output_type": "stream",
     "text": [
      "on laptop, windows env\n",
      "demo-dogs\\dogs\n",
      "demo-dogs\\dogs\\dog_1.txt\n",
      "demo-dogs\\dogs\\dog_2.txt\n",
      "demo-dogs\\dogs\\dog_3.txt\n",
      "-----\n",
      "demo-dogs\\new-dogs\\demo-dogs\\dogs\n",
      "demo-dogs\\new-dogs\\demo-dogs\\dogs\\dog_1.txt\n",
      "demo-dogs\\new-dogs\\demo-dogs\\dogs\\dog_2.txt\n",
      "demo-dogs\\new-dogs\\demo-dogs\\dogs\\dog_3.txt\n"
     ]
    }
   ],
   "source": [
    "if is_local() and os.name == 'nt':\n",
    "    print('on laptop, windows env')\n",
    "    return_files()"
   ]
  }
 ],
 "metadata": {
  "kernelspec": {
   "display_name": "Python 3",
   "language": "python",
   "name": "python3"
  },
  "language_info": {
   "codemirror_mode": {
    "name": "ipython",
    "version": 3
   },
   "file_extension": ".py",
   "mimetype": "text/x-python",
   "name": "python",
   "nbconvert_exporter": "python",
   "pygments_lexer": "ipython3",
   "version": "3.7.1"
  }
 },
 "nbformat": 4,
 "nbformat_minor": 2
}
