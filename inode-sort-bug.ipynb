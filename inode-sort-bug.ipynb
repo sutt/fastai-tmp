{
 "cells": [
  {
   "cell_type": "code",
   "execution_count": 13,
   "metadata": {},
   "outputs": [],
   "source": [
    "import os, sys\n",
    "from pathlib import Path"
   ]
  },
  {
   "cell_type": "code",
   "execution_count": 2,
   "metadata": {},
   "outputs": [],
   "source": [
    "# set to dev-head on server\n",
    "# sys.path.insert(0, '../../../fastai')"
   ]
  },
  {
   "cell_type": "code",
   "execution_count": 14,
   "metadata": {},
   "outputs": [
    {
     "data": {
      "text/plain": [
       "'1.0.52.dev0'"
      ]
     },
     "execution_count": 14,
     "metadata": {},
     "output_type": "execute_result"
    }
   ],
   "source": [
    "import fastai\n",
    "fastai.__version__"
   ]
  },
  {
   "cell_type": "markdown",
   "metadata": {},
   "source": [
    "##### Toy Example to create inode sort-discepancy through compression\n",
    "create three files but in an order not equal to alphabetical, then view the inode for the directory before/after compression"
   ]
  },
  {
   "cell_type": "code",
   "execution_count": 16,
   "metadata": {},
   "outputs": [
    {
     "name": "stdout",
     "output_type": "stream",
     "text": [
      "4325413 dog_1.txt  4325415 dog_2.txt  4325414 dog_3.txt\r\n",
      "4325419 dog_1.txt  4325420 dog_2.txt  4325421 dog_3.txt\r\n"
     ]
    }
   ],
   "source": [
    "cmd = '''\n",
    "mkdir demo-dogs/dogs\n",
    "touch demo-dogs/dogs/dog_1.txt\n",
    "touch demo-dogs/dogs/dog_3.txt\n",
    "touch demo-dogs/dogs/dog_2.txt\n",
    "ls -i demo-dogs/dogs\n",
    "tar -cf demo-dogs/dogs.tar demo-dogs/dogs --sort=name\n",
    "mkdir demo-dogs/new-dogs\n",
    "tar -xf demo-dogs/dogs.tar -C demo-dogs/new-dogs/\n",
    "ls -i demo-dogs/new-dogs/demo-dogs/dogs\n",
    "'''\n",
    "\n",
    "s_cmd = ' && '.join(cmd.split('\\n')[1:-1])\n",
    "# s_cmd\n",
    "\n",
    "! $s_cmd"
   ]
  },
  {
   "cell_type": "markdown",
   "metadata": {},
   "source": [
    "From ls printout you can see inode is *not* in alphanumeric order for original direcotry (because the order of creation) but after compression/decompression, the inode *is* in alphanumeric order in the second directory."
   ]
  },
  {
   "cell_type": "code",
   "execution_count": 15,
   "metadata": {},
   "outputs": [],
   "source": [
    "# DON'T RUN THIS if proceeding to next example\n",
    "# remove the created dir's to re-run;\n",
    "cmd = '''\n",
    "rm demo-dogs/new-dogs -r\n",
    "rm demo-dogs/dogs -r\n",
    "'''\n",
    "s_cmd = ' && '.join(cmd.split('\\n')[1:-1])\n",
    "\n",
    "! $s_cmd"
   ]
  },
  {
   "cell_type": "markdown",
   "metadata": {},
   "source": [
    "##### Demonstrate fatai functions load out of order\n",
    "this notebook is run on both GCP-server and laptop(win10) in both windows env and WSL env: the order of loading is preserved before/after compression but varies between machines."
   ]
  },
  {
   "cell_type": "code",
   "execution_count": 17,
   "metadata": {},
   "outputs": [],
   "source": [
    "from fastai.data_block import _get_files\n",
    "\n",
    "def is_local(name='DESKTOP-5VTC260'):\n",
    "    # change `name` to reflect your computer user-name\n",
    "    sys_vars = os.environ\n",
    "    return ( sys_vars.get('NAME', '') == name\n",
    "             or sys_vars.get('COMPUTERNAME', '') == name)"
   ]
  },
  {
   "cell_type": "code",
   "execution_count": 18,
   "metadata": {},
   "outputs": [],
   "source": [
    "def return_files():\n",
    "    '''mimic fastai proc for loading files, print to view order'''\n",
    "    \n",
    "    extensions=['.txt']\n",
    "\n",
    "    # original directory: inode != alphabet-order\n",
    "    path = Path('demo-dogs/dogs/')\n",
    "    f = [o.name for o in os.scandir(path) if o.is_file()]\n",
    "    res = _get_files(path, path, f, extensions)\n",
    "    print(path, *res, sep='\\n')\n",
    "\n",
    "    print('-----')\n",
    "\n",
    "    # new directory: inode == alphabet-order\n",
    "    path = Path('demo-dogs/new-dogs/demo-dogs/dogs/')\n",
    "    f = [o.name for o in os.scandir(path) if o.is_file()]\n",
    "    res = _get_files(path, path, f, extensions)\n",
    "    print(path, *res, sep='\\n')"
   ]
  },
  {
   "cell_type": "code",
   "execution_count": 19,
   "metadata": {},
   "outputs": [
    {
     "name": "stdout",
     "output_type": "stream",
     "text": [
      "on GCP server\n",
      "demo-dogs/dogs\n",
      "demo-dogs/dogs/dog_2.txt\n",
      "demo-dogs/dogs/dog_3.txt\n",
      "demo-dogs/dogs/dog_1.txt\n",
      "-----\n",
      "demo-dogs/new-dogs/demo-dogs/dogs\n",
      "demo-dogs/new-dogs/demo-dogs/dogs/dog_2.txt\n",
      "demo-dogs/new-dogs/demo-dogs/dogs/dog_3.txt\n",
      "demo-dogs/new-dogs/demo-dogs/dogs/dog_1.txt\n"
     ]
    }
   ],
   "source": [
    "if not(is_local()):\n",
    "    print('on GCP server')\n",
    "    return_files()"
   ]
  },
  {
   "cell_type": "code",
   "execution_count": 10,
   "metadata": {},
   "outputs": [
    {
     "name": "stdout",
     "output_type": "stream",
     "text": [
      "on laptop, windows env\n",
      "demo-dogs/dogs\n",
      "demo-dogs/dogs/dog_1.txt\n",
      "demo-dogs/dogs/dog_2.txt\n",
      "demo-dogs/dogs/dog_3.txt\n",
      "-----\n",
      "demo-dogs/new-dogs/demo-dogs/dogs\n",
      "demo-dogs/new-dogs/demo-dogs/dogs/dog_1.txt\n",
      "demo-dogs/new-dogs/demo-dogs/dogs/dog_2.txt\n",
      "demo-dogs/new-dogs/demo-dogs/dogs/dog_3.txt\n"
     ]
    }
   ],
   "source": [
    "if is_local() and os.name == 'posix':\n",
    "    print('on laptop, windows env')\n",
    "    return_files()"
   ]
  },
  {
   "cell_type": "code",
   "execution_count": 6,
   "metadata": {},
   "outputs": [
    {
     "name": "stdout",
     "output_type": "stream",
     "text": [
      "on laptop, windows env\n",
      "demo-dogs\\dogs\n",
      "demo-dogs\\dogs\\dog_1.txt\n",
      "demo-dogs\\dogs\\dog_2.txt\n",
      "demo-dogs\\dogs\\dog_3.txt\n",
      "-----\n",
      "demo-dogs\\new-dogs\\demo-dogs\\dogs\n",
      "demo-dogs\\new-dogs\\demo-dogs\\dogs\\dog_1.txt\n",
      "demo-dogs\\new-dogs\\demo-dogs\\dogs\\dog_2.txt\n",
      "demo-dogs\\new-dogs\\demo-dogs\\dogs\\dog_3.txt\n"
     ]
    }
   ],
   "source": [
    "if is_local() and os.name == 'nt':\n",
    "    print('on laptop, windows env')\n",
    "    return_files()"
   ]
  },
  {
   "cell_type": "markdown",
   "metadata": {},
   "source": [
    "##### Screenshots of the inode listing for different machines"
   ]
  },
  {
   "cell_type": "markdown",
   "metadata": {},
   "source": [
    "<p> local (wsl) `ls -i` </p>\n",
    "<img src=\"misc/local_wsl_inode.PNG\"/>\n",
    "\n",
    "<p> server side `ls -i` </p>\n",
    "<img src=\"misc/server_inode.PNG\"/>"
   ]
  }
 ],
 "metadata": {
  "kernelspec": {
   "display_name": "Python 3",
   "language": "python",
   "name": "python3"
  },
  "language_info": {
   "codemirror_mode": {
    "name": "ipython",
    "version": 3
   },
   "file_extension": ".py",
   "mimetype": "text/x-python",
   "name": "python",
   "nbconvert_exporter": "python",
   "pygments_lexer": "ipython3",
   "version": "3.7.1"
  }
 },
 "nbformat": 4,
 "nbformat_minor": 2
}
