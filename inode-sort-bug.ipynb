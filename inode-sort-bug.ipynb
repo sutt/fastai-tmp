{
 "cells": [
  {
   "cell_type": "code",
   "execution_count": 1,
   "metadata": {},
   "outputs": [],
   "source": [
    "import os, sys"
   ]
  },
  {
   "cell_type": "code",
   "execution_count": null,
   "metadata": {},
   "outputs": [],
   "source": []
  },
  {
   "cell_type": "markdown",
   "metadata": {},
   "source": [
    "##### Toy Example to create inode sort-discepancy through compression"
   ]
  },
  {
   "cell_type": "code",
   "execution_count": 40,
   "metadata": {},
   "outputs": [
    {
     "name": "stdout",
     "output_type": "stream",
     "text": [
      "4325397 dog_1.txt  4325399 dog_2.txt  4325398 dog_3.txt\r\n",
      "4325404 dog_1.txt  4325405 dog_2.txt  4325406 dog_3.txt\r\n"
     ]
    }
   ],
   "source": [
    "cmd = '''\n",
    "mkdir demo-dogs/dogs\n",
    "touch demo-dogs/dogs/dog_1.txt\n",
    "touch demo-dogs/dogs/dog_3.txt\n",
    "touch demo-dogs/dogs/dog_2.txt\n",
    "ls -i demo-dogs/dogs\n",
    "tar -cf demo-dogs/dogs.tar demo-dogs/dogs --sort=name\n",
    "mkdir demo-dogs/new-dogs\n",
    "tar -xf demo-dogs/dogs.tar -C demo-dogs/new-dogs/\n",
    "ls -i demo-dogs/new-dogs/demo-dogs/dogs\n",
    "rm demo-dogs/new-dogs -r\n",
    "rm demo-dogs/dogs -r\n",
    "'''\n",
    "\n",
    "s_cmd = ' && '.join(cmd.split('\\n')[1:-1])\n",
    "# s_cmd\n",
    "\n",
    "! $s_cmd"
   ]
  },
  {
   "cell_type": "markdown",
   "metadata": {},
   "source": [
    "From ls printout you can see inode is *not* in alphanumeric order for original direcotry (because the order of creation) but after compression/decompression, the inode *is* in alphanumeric order in the second directory."
   ]
  },
  {
   "cell_type": "markdown",
   "metadata": {},
   "source": [
    "##### Screenshots of the inode listing for different machines"
   ]
  },
  {
   "cell_type": "code",
   "execution_count": null,
   "metadata": {},
   "outputs": [],
   "source": []
  }
 ],
 "metadata": {
  "kernelspec": {
   "display_name": "Python 3",
   "language": "python",
   "name": "python3"
  },
  "language_info": {
   "codemirror_mode": {
    "name": "ipython",
    "version": 3
   },
   "file_extension": ".py",
   "mimetype": "text/x-python",
   "name": "python",
   "nbconvert_exporter": "python",
   "pygments_lexer": "ipython3",
   "version": "3.7.1"
  }
 },
 "nbformat": 4,
 "nbformat_minor": 2
}
