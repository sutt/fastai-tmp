{
 "cells": [
  {
   "cell_type": "code",
   "execution_count": 1,
   "metadata": {},
   "outputs": [],
   "source": [
    "import os, sys\n",
    "from pathlib import Path"
   ]
  },
  {
   "cell_type": "code",
   "execution_count": 2,
   "metadata": {},
   "outputs": [],
   "source": [
    "# set to dev-head\n",
    "sys.path.insert(0, '../../../fastai')"
   ]
  },
  {
   "cell_type": "code",
   "execution_count": 3,
   "metadata": {},
   "outputs": [
    {
     "data": {
      "text/plain": [
       "'1.0.52.dev0'"
      ]
     },
     "execution_count": 3,
     "metadata": {},
     "output_type": "execute_result"
    }
   ],
   "source": [
    "import fastai\n",
    "fastai.__version__"
   ]
  },
  {
   "cell_type": "markdown",
   "metadata": {},
   "source": [
    "##### Toy Example to create inode sort-discepancy through compression\n",
    "create three files but in an order not equal to alphabetical, then view the inode for the directory before/after compression"
   ]
  },
  {
   "cell_type": "code",
   "execution_count": 6,
   "metadata": {},
   "outputs": [
    {
     "name": "stdout",
     "output_type": "stream",
     "text": [
      "4325413 dog_1.txt  4325415 dog_2.txt  4325414 dog_3.txt\r\n",
      "4325419 dog_1.txt  4325420 dog_2.txt  4325421 dog_3.txt\r\n"
     ]
    }
   ],
   "source": [
    "cmd = '''\n",
    "mkdir demo-dogs/dogs\n",
    "touch demo-dogs/dogs/dog_1.txt\n",
    "touch demo-dogs/dogs/dog_3.txt\n",
    "touch demo-dogs/dogs/dog_2.txt\n",
    "ls -i demo-dogs/dogs\n",
    "tar -cf demo-dogs/dogs.tar demo-dogs/dogs --sort=name\n",
    "mkdir demo-dogs/new-dogs\n",
    "tar -xf demo-dogs/dogs.tar -C demo-dogs/new-dogs/\n",
    "ls -i demo-dogs/new-dogs/demo-dogs/dogs\n",
    "'''\n",
    "\n",
    "s_cmd = ' && '.join(cmd.split('\\n')[1:-1])\n",
    "# s_cmd\n",
    "\n",
    "! $s_cmd"
   ]
  },
  {
   "cell_type": "markdown",
   "metadata": {},
   "source": [
    "From ls printout you can see inode is *not* in alphanumeric order for original direcotry (because the order of creation) but after compression/decompression, the inode *is* in alphanumeric order in the second directory."
   ]
  },
  {
   "cell_type": "code",
   "execution_count": 5,
   "metadata": {},
   "outputs": [],
   "source": [
    "# remove the created dir's to re-run\n",
    "cmd = '''\n",
    "rm demo-dogs/new-dogs -r\n",
    "rm demo-dogs/dogs -r\n",
    "'''\n",
    "s_cmd = ' && '.join(cmd.split('\\n')[1:-1])\n",
    "\n",
    "! $s_cmd"
   ]
  },
  {
   "cell_type": "markdown",
   "metadata": {},
   "source": [
    "##### Demonstrate fatai functions load out of order"
   ]
  },
  {
   "cell_type": "code",
   "execution_count": 10,
   "metadata": {},
   "outputs": [
    {
     "name": "stdout",
     "output_type": "stream",
     "text": [
      "demo-dogs/dogs\n",
      "demo-dogs/dogs/dog_2.txt\n",
      "demo-dogs/dogs/dog_3.txt\n",
      "demo-dogs/dogs/dog_1.txt\n",
      "-----\n",
      "demo-dogs/new-dogs/demo-dogs/dogs\n",
      "demo-dogs/new-dogs/demo-dogs/dogs/dog_2.txt\n",
      "demo-dogs/new-dogs/demo-dogs/dogs/dog_3.txt\n",
      "demo-dogs/new-dogs/demo-dogs/dogs/dog_1.txt\n"
     ]
    }
   ],
   "source": [
    "from fastai.data_block import _get_files\n",
    "\n",
    "extensions=['.txt']\n",
    "\n",
    "# original directory: inode != alphabet-order\n",
    "path = Path('demo-dogs/dogs/')\n",
    "f = [o.name for o in os.scandir(path) if o.is_file()]\n",
    "res = _get_files(path, path, f, extensions)\n",
    "print(path, *res, sep='\\n')\n",
    "\n",
    "print('-----')\n",
    "\n",
    "# original directory: inode != alphabet-order\n",
    "path = Path('demo-dogs/new-dogs/demo-dogs/dogs/')\n",
    "f = [o.name for o in os.scandir(path) if o.is_file()]\n",
    "res = _get_files(path, path, f, extensions)\n",
    "print(path, *res, sep='\\n')"
   ]
  },
  {
   "cell_type": "code",
   "execution_count": 11,
   "metadata": {},
   "outputs": [
    {
     "name": "stdout",
     "output_type": "stream",
     "text": [
      "demo-dogs/dogs-3\n",
      "demo-dogs/dogs-3/dog_2.txt\n",
      "demo-dogs/dogs-3/dog_3.txt\n",
      "demo-dogs/dogs-3/dog_1.txt\n"
     ]
    }
   ],
   "source": [
    "path = Path('demo-dogs/dogs-3')\n",
    "f = [o.name for o in os.scandir(path) if o.is_file()]\n",
    "res = _get_files(path, path, f, extensions)\n",
    "print(path, *res, sep='\\n')"
   ]
  },
  {
   "cell_type": "code",
   "execution_count": null,
   "metadata": {},
   "outputs": [],
   "source": [
    "[o.name for o in os.scandir('demo-inode/in-order')]"
   ]
  },
  {
   "cell_type": "code",
   "execution_count": null,
   "metadata": {},
   "outputs": [],
   "source": []
  },
  {
   "cell_type": "markdown",
   "metadata": {},
   "source": [
    "##### Screenshots of the inode listing for different machines"
   ]
  },
  {
   "cell_type": "code",
   "execution_count": null,
   "metadata": {},
   "outputs": [],
   "source": []
  }
 ],
 "metadata": {
  "kernelspec": {
   "display_name": "Python 3",
   "language": "python",
   "name": "python3"
  },
  "language_info": {
   "codemirror_mode": {
    "name": "ipython",
    "version": 3
   },
   "file_extension": ".py",
   "mimetype": "text/x-python",
   "name": "python",
   "nbconvert_exporter": "python",
   "pygments_lexer": "ipython3",
   "version": "3.7.1"
  }
 },
 "nbformat": 4,
 "nbformat_minor": 2
}
