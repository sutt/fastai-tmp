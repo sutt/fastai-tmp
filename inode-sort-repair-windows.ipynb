{
 "cells": [
  {
   "cell_type": "code",
   "execution_count": 1,
   "metadata": {},
   "outputs": [],
   "source": [
    "import os, sys\n",
    "from pathlib import Path"
   ]
  },
  {
   "cell_type": "code",
   "execution_count": 2,
   "metadata": {},
   "outputs": [],
   "source": [
    "# set to dev-head on server\n",
    "# sys.path.insert(0, '../../../fastai')\n",
    "\n",
    "# set to dev-head on local\n",
    "sys.path.insert(0, '../../../fastaif')"
   ]
  },
  {
   "cell_type": "code",
   "execution_count": 3,
   "metadata": {},
   "outputs": [
    {
     "data": {
      "text/plain": [
       "'1.0.52.dev0'"
      ]
     },
     "execution_count": 3,
     "metadata": {},
     "output_type": "execute_result"
    }
   ],
   "source": [
    "import fastai\n",
    "fastai.__version__"
   ]
  },
  {
   "cell_type": "code",
   "execution_count": 4,
   "metadata": {},
   "outputs": [],
   "source": [
    "%reload_ext autoreload\n",
    "%autoreload 2"
   ]
  },
  {
   "cell_type": "code",
   "execution_count": 5,
   "metadata": {},
   "outputs": [
    {
     "data": {
      "text/plain": [
       "'world'"
      ]
     },
     "execution_count": 5,
     "metadata": {},
     "output_type": "execute_result"
    }
   ],
   "source": [
    "from fastai.data_block import sutfunc\n",
    "sutfunc()"
   ]
  },
  {
   "cell_type": "code",
   "execution_count": 6,
   "metadata": {},
   "outputs": [],
   "source": [
    "from fastai.data_block import _get_files\n",
    "\n",
    "def is_local(name='DESKTOP-5VTC260'):\n",
    "    # change `name` to reflect your computer user-name\n",
    "    sys_vars = os.environ\n",
    "    return ( sys_vars.get('NAME', '') == name\n",
    "             or sys_vars.get('COMPUTERNAME', '') == name)"
   ]
  },
  {
   "cell_type": "code",
   "execution_count": 7,
   "metadata": {},
   "outputs": [],
   "source": [
    "def mimic():\n",
    "    '''mimic fastai proc for loading files, print to view order'''\n",
    "    \n",
    "    extensions=['.txt']\n",
    "\n",
    "    # original directory: inode != alphabet-order\n",
    "    path = Path('demo-dogs/dogs/')\n",
    "    f = [o.name for o in os.scandir(path) if o.is_file()]\n",
    "    res = _get_files(path, path, f, extensions)\n",
    "    \n",
    "    return res"
   ]
  },
  {
   "cell_type": "code",
   "execution_count": 8,
   "metadata": {},
   "outputs": [
    {
     "data": {
      "text/plain": [
       "[WindowsPath('demo-dogs/dogs/dog_1.txt'),\n",
       " WindowsPath('demo-dogs/dogs/dog_2.txt'),\n",
       " WindowsPath('demo-dogs/dogs/dog_3.txt')]"
      ]
     },
     "execution_count": 8,
     "metadata": {},
     "output_type": "execute_result"
    }
   ],
   "source": [
    "ret = mimic()\n",
    "ret"
   ]
  },
  {
   "cell_type": "code",
   "execution_count": 9,
   "metadata": {},
   "outputs": [
    {
     "data": {
      "text/plain": [
       "[WindowsPath('demo-dogs/dogs/dog_1.txt'),\n",
       " WindowsPath('demo-dogs/dogs/dog_2.txt'),\n",
       " WindowsPath('demo-dogs/dogs/dog_3.txt')]"
      ]
     },
     "execution_count": 9,
     "metadata": {},
     "output_type": "execute_result"
    }
   ],
   "source": [
    "ret2 = sorted(ret, key=lambda x:str(x), reverse=False)\n",
    "ret2"
   ]
  },
  {
   "cell_type": "code",
   "execution_count": 10,
   "metadata": {},
   "outputs": [
    {
     "data": {
      "text/plain": [
       "WindowsPath('demo-dogs/dogs/dog_1.txt')"
      ]
     },
     "execution_count": 10,
     "metadata": {},
     "output_type": "execute_result"
    }
   ],
   "source": [
    "elem0 = ret[0]\n",
    "elem0"
   ]
  },
  {
   "cell_type": "code",
   "execution_count": 32,
   "metadata": {},
   "outputs": [
    {
     "data": {
      "text/plain": [
       "['/', '/', '\\\\', '\\\\', '_', 'e']"
      ]
     },
     "execution_count": 32,
     "metadata": {},
     "output_type": "execute_result"
    }
   ],
   "source": [
    "q = ['\\\\','/','\\\\','/', 'e','_']\n",
    "q2 = sorted(q)\n",
    "q2"
   ]
  },
  {
   "cell_type": "code",
   "execution_count": null,
   "metadata": {},
   "outputs": [],
   "source": []
  },
  {
   "cell_type": "code",
   "execution_count": 34,
   "metadata": {},
   "outputs": [],
   "source": [
    "def _path_to_same_str(p_fn):\n",
    "    \"path -> str, but same on nt+posix, for alpha-sort only\"\n",
    "    s_fn = str(p_fn)\n",
    "    s_fn = s_fn.replace('\\\\','.')\n",
    "    s_fn = s_fn.replace('/','.')\n",
    "    return s_fn"
   ]
  },
  {
   "cell_type": "code",
   "execution_count": 35,
   "metadata": {},
   "outputs": [],
   "source": [
    "ret_sort = sorted(ret2, key=lambda x: _path_to_same_str(x), reverse=False)"
   ]
  },
  {
   "cell_type": "code",
   "execution_count": 36,
   "metadata": {},
   "outputs": [
    {
     "data": {
      "text/plain": [
       "[WindowsPath('demo-dogs/dogs/dog_1.txt'),\n",
       " WindowsPath('demo-dogs/dogs/dog_2.txt'),\n",
       " WindowsPath('demo-dogs/dogs/dog_3.txt')]"
      ]
     },
     "execution_count": 36,
     "metadata": {},
     "output_type": "execute_result"
    }
   ],
   "source": [
    "ret_sort"
   ]
  },
  {
   "cell_type": "code",
   "execution_count": 25,
   "metadata": {},
   "outputs": [
    {
     "name": "stdout",
     "output_type": "stream",
     "text": [
      "\\\\\n"
     ]
    }
   ],
   "source": [
    "print('\\\\\\\\')"
   ]
  },
  {
   "cell_type": "code",
   "execution_count": null,
   "metadata": {},
   "outputs": [],
   "source": [
    "s_0.replace()"
   ]
  },
  {
   "cell_type": "code",
   "execution_count": 14,
   "metadata": {},
   "outputs": [
    {
     "data": {
      "text/plain": [
       "'demo-dogs\\\\dogs\\\\dog_1.txt'"
      ]
     },
     "execution_count": 14,
     "metadata": {},
     "output_type": "execute_result"
    }
   ],
   "source": [
    "s_0 = str(elem0)\n",
    "s_0"
   ]
  },
  {
   "cell_type": "code",
   "execution_count": 28,
   "metadata": {},
   "outputs": [
    {
     "data": {
      "text/plain": [
       "9"
      ]
     },
     "execution_count": 28,
     "metadata": {},
     "output_type": "execute_result"
    }
   ],
   "source": [
    "s_0.index('\\\\')"
   ]
  },
  {
   "cell_type": "code",
   "execution_count": 29,
   "metadata": {},
   "outputs": [
    {
     "data": {
      "text/plain": [
       "'demo-dogs.dogs.dog_1.txt'"
      ]
     },
     "execution_count": 29,
     "metadata": {},
     "output_type": "execute_result"
    }
   ],
   "source": [
    "s_0 = s_0.replace('\\\\', '.')\n",
    "s_0"
   ]
  },
  {
   "cell_type": "code",
   "execution_count": 22,
   "metadata": {},
   "outputs": [
    {
     "data": {
      "text/plain": [
       "'\\\\'"
      ]
     },
     "execution_count": 22,
     "metadata": {},
     "output_type": "execute_result"
    }
   ],
   "source": [
    "s_0[9]"
   ]
  },
  {
   "cell_type": "code",
   "execution_count": null,
   "metadata": {},
   "outputs": [],
   "source": []
  },
  {
   "cell_type": "code",
   "execution_count": 4,
   "metadata": {},
   "outputs": [],
   "source": [
    "def return_files():\n",
    "    '''mimic fastai proc for loading files, print to view order'''\n",
    "    \n",
    "    extensions=['.txt']\n",
    "\n",
    "    # original directory: inode != alphabet-order\n",
    "    path = Path('demo-dogs/dogs/')\n",
    "    f = [o.name for o in os.scandir(path) if o.is_file()]\n",
    "    res = _get_files(path, path, f, extensions)\n",
    "    print(path, *res, sep='\\n')\n",
    "\n",
    "    print('-----')\n",
    "\n",
    "    # new directory: inode == alphabet-order\n",
    "    path = Path('demo-dogs/new-dogs/demo-dogs/dogs/')\n",
    "    f = [o.name for o in os.scandir(path) if o.is_file()]\n",
    "    res = _get_files(path, path, f, extensions)\n",
    "    print(path, *res, sep='\\n')"
   ]
  },
  {
   "cell_type": "code",
   "execution_count": 5,
   "metadata": {},
   "outputs": [],
   "source": [
    "if not(is_local()):\n",
    "    print('on GCP server')\n",
    "    return_files()"
   ]
  },
  {
   "cell_type": "code",
   "execution_count": 10,
   "metadata": {},
   "outputs": [
    {
     "name": "stdout",
     "output_type": "stream",
     "text": [
      "on laptop, windows env\n",
      "demo-dogs/dogs\n",
      "demo-dogs/dogs/dog_1.txt\n",
      "demo-dogs/dogs/dog_2.txt\n",
      "demo-dogs/dogs/dog_3.txt\n",
      "-----\n",
      "demo-dogs/new-dogs/demo-dogs/dogs\n",
      "demo-dogs/new-dogs/demo-dogs/dogs/dog_1.txt\n",
      "demo-dogs/new-dogs/demo-dogs/dogs/dog_2.txt\n",
      "demo-dogs/new-dogs/demo-dogs/dogs/dog_3.txt\n"
     ]
    }
   ],
   "source": [
    "if is_local() and os.name == 'posix':\n",
    "    print('on laptop, windows env')\n",
    "    return_files()"
   ]
  },
  {
   "cell_type": "code",
   "execution_count": 6,
   "metadata": {},
   "outputs": [
    {
     "name": "stdout",
     "output_type": "stream",
     "text": [
      "on laptop, windows env\n",
      "demo-dogs\\dogs\n",
      "demo-dogs\\dogs\\dog_1.txt\n",
      "demo-dogs\\dogs\\dog_2.txt\n",
      "demo-dogs\\dogs\\dog_3.txt\n",
      "-----\n",
      "demo-dogs\\new-dogs\\demo-dogs\\dogs\n",
      "demo-dogs\\new-dogs\\demo-dogs\\dogs\\dog_1.txt\n",
      "demo-dogs\\new-dogs\\demo-dogs\\dogs\\dog_2.txt\n",
      "demo-dogs\\new-dogs\\demo-dogs\\dogs\\dog_3.txt\n"
     ]
    }
   ],
   "source": [
    "if is_local() and os.name == 'nt':\n",
    "    print('on laptop, windows env')\n",
    "    return_files()"
   ]
  },
  {
   "cell_type": "markdown",
   "metadata": {},
   "source": [
    "##### Screenshots of the inode listing for different machines"
   ]
  },
  {
   "cell_type": "markdown",
   "metadata": {},
   "source": [
    "<p> local (wsl) `ls -i` </p>\n",
    "<img src=\"misc/local_wsl_inode.PNG\"/>\n",
    "\n",
    "<p> server side `ls -i` </p>\n",
    "<img src=\"misc/server_inode.PNG\"/>"
   ]
  }
 ],
 "metadata": {
  "kernelspec": {
   "display_name": "Python 3",
   "language": "python",
   "name": "python3"
  },
  "language_info": {
   "codemirror_mode": {
    "name": "ipython",
    "version": 3
   },
   "file_extension": ".py",
   "mimetype": "text/x-python",
   "name": "python",
   "nbconvert_exporter": "python",
   "pygments_lexer": "ipython3",
   "version": "3.7.2"
  }
 },
 "nbformat": 4,
 "nbformat_minor": 2
}
